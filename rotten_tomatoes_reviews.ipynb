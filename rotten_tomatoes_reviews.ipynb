{
 "cells": [
  {
   "cell_type": "markdown",
   "metadata": {},
   "source": [
    "# Natural Language Processing: Marvel's Rotten Tomatoes Reviews"
   ]
  },
  {
   "cell_type": "markdown",
   "metadata": {},
   "source": [
    "## Setup"
   ]
  },
  {
   "cell_type": "markdown",
   "metadata": {},
   "source": [
    "For this project, I have decided to create a NLP model that would be able to differentiate between good and bad movie reviews. \n",
    "\n",
    "The reason behind this project was me watching a latest Marvel movie, which I have enjoyed, only to realise that it has pretty bad reviews on Rotten Tomatoes. So I have decided to get all the critics' reviews from 26 movies that are considered part of Marvel's Cinematic Universe (MCU). An important note is that Rotten Tomatoes publishes only the summary rather than a full review. \n",
    "\n",
    "So this project consists of 3 major parts:\n",
    "\n",
    "1. Scraping Rotten Tomatoes to download all reviews for each of the 26 movies.\n",
    "\n",
    "2. Quick Exploratory Data Analysis.\n",
    "\n",
    "3. Creating Bag of Words model. \n",
    "\n",
    "4. Choosing the best classification model + hypertuning the parameters to (hopefully!) improve the performance."
   ]
  },
  {
   "cell_type": "markdown",
   "metadata": {},
   "source": [
    "## Importing Libraries"
   ]
  },
  {
   "cell_type": "code",
   "execution_count": 1,
   "metadata": {},
   "outputs": [
    {
     "name": "stderr",
     "output_type": "stream",
     "text": [
      "[nltk_data] Downloading package stopwords to\n",
      "[nltk_data]     C:\\Users\\artur\\AppData\\Roaming\\nltk_data...\n",
      "[nltk_data]   Package stopwords is already up-to-date!\n"
     ]
    }
   ],
   "source": [
    "# web scraping\n",
    "import requests\n",
    "from bs4 import BeautifulSoup\n",
    "from selenium import webdriver\n",
    "from selenium.webdriver.chrome.service import Service\n",
    "from selenium.webdriver.common.by import By\n",
    "from selenium.webdriver.support.ui import WebDriverWait\n",
    "from selenium.webdriver.support import expected_conditions as EC\n",
    "import time\n",
    "PATH = 'C:\\Program Files (x86)\\chromedriver.exe'\n",
    "\n",
    "# data manipulation\n",
    "import pandas as pd\n",
    "import numpy as np\n",
    "\n",
    "# strings processing\n",
    "import re\n",
    "import nltk\n",
    "nltk.download('stopwords')\n",
    "from nltk.corpus import stopwords\n",
    "from nltk.stem.porter import PorterStemmer\n",
    "\n",
    "# machine learning\n",
    "from imblearn.under_sampling import RandomUnderSampler\n",
    "from sklearn.model_selection import train_test_split\n",
    "from sklearn.pipeline import Pipeline\n",
    "from sklearn.linear_model import LogisticRegression\n",
    "from sklearn.neighbors import KNeighborsClassifier as KNN\n",
    "from sklearn.ensemble import RandomForestClassifier\n",
    "from xgboost import XGBClassifier\n",
    "from sklearn.model_selection import cross_val_score\n",
    "from statistics import mean\n",
    "from sklearn.metrics import classification_report, accuracy_score, confusion_matrix\n",
    "\n",
    "# ignore warnings\n",
    "import warnings\n",
    "warnings.filterwarnings(\"ignore\")"
   ]
  },
  {
   "cell_type": "markdown",
   "metadata": {},
   "source": [
    "## Web Scraping with BeautifulSoup and Selenium"
   ]
  },
  {
   "cell_type": "markdown",
   "metadata": {},
   "source": [
    "While usually web scraping is an easy process, Rotten Tomatoes did not want to make it easy! \n",
    "\n",
    "Each movie has a page with critics review. Usually, it has a link in the following format: 'https://www.rottentomatoes.com/m/the_avengers/reviews'. The problem is that not all reviews are on the same page. Moreover, the link for the reviews does not contain a page number (i.e. you can't just change the number in the link to go to another page), so the only way to go to the next page of reviews is to press the button. \n",
    "\n",
    "As a result, for this project I am going to use Selenium library that uses Chrome Webdriver to open each page manually by pressing 'Next' button. So the new plan is the following:\n",
    "\n",
    "1. Use beautiful soup to scrape the page that contains the names and links to all 26 MCU movies in chronological order (MCU chronology).\n",
    "\n",
    "2. For each movie, use selenium to open all review pages and use beautiful soup to scrape all reviews and scores. "
   ]
  },
  {
   "cell_type": "markdown",
   "metadata": {},
   "source": [
    "Firstly, I am going to create a helper function that uses beautiful soup to scrape all reviews and score in a page. It takes html code of a page, the name of the movie, as well as movies, reviews and scores lists to populate. All this lists would be used to create a dataframe later on."
   ]
  },
  {
   "cell_type": "code",
   "execution_count": 2,
   "metadata": {},
   "outputs": [],
   "source": [
    "def reviews_on_page_html(html, movie, movies, reviews, scores):\n",
    "    # creates a soup object\n",
    "    pageSoup = BeautifulSoup(html, 'html.parser')\n",
    "    # grabs all the reviews\n",
    "    all_reviews = pageSoup.find_all('div', class_='row review_table_row')\n",
    "    # for each review appends the movie name, review itself and the score\n",
    "    for review in all_reviews:\n",
    "        movies.append(movie)\n",
    "        review_text = review.find('div', class_='the_review').text\n",
    "        review_text = review_text.strip()\n",
    "        reviews.append(review_text)\n",
    "        score = review.find('div', class_='col-xs-16 review_container').contents[1]['class'][3]\n",
    "        scores.append(score)"
   ]
  },
  {
   "cell_type": "markdown",
   "metadata": {},
   "source": [
    "The following helper function gets all reviews for a particular movie. It takes html code for a first page of reviews, movie name, as well as movies, reviews, and scores lists to populate. "
   ]
  },
  {
   "cell_type": "code",
   "execution_count": 3,
   "metadata": {},
   "outputs": [],
   "source": [
    "def all_movie_reviews(html, movie, movies, reviews, scores):\n",
    "    # special case for the first page\n",
    "    headers = {'User-Agent': \n",
    "           'Mozilla/5.0 (X11; Linux x86_64) AppleWebKit/537.36 (KHTML, like Gecko) Chrome/47.0.2526.106 Safari/537.36'}\n",
    "    pageTree = requests.get(html, headers=headers)\n",
    "    reviews_on_page_html(pageTree.content, movie, movies, reviews, scores)\n",
    "    # intialize webdriver for Chrome\n",
    "    ser = Service(PATH)\n",
    "    op = webdriver.ChromeOptions()\n",
    "    driver = webdriver.Chrome(service=ser, options=op)\n",
    "    # boolean that controls the loop\n",
    "    cont = True\n",
    "    driver.get(html)\n",
    "    while cont:\n",
    "        # try to find the next button\n",
    "        try:\n",
    "            # tries to find the next button by XPATH, and clicks it\n",
    "            WebDriverWait(driver,2).until(EC.element_to_be_clickable((By.XPATH, '//*[@id=\"content\"]/div/div/div/nav[2]/button[2]'))).click()\n",
    "            # if found sleeps for 2 seconds to let the page load\n",
    "            time.sleep(2)\n",
    "            # gets the new html\n",
    "            html = driver.page_source\n",
    "            reviews_on_page_html(html, movie, movies, reviews, scores)\n",
    "        # if no next button, end the loop\n",
    "        except:\n",
    "            cont = False"
   ]
  },
  {
   "cell_type": "markdown",
   "metadata": {},
   "source": [
    "This is a final function, that uses two previous helper functions to get all movies from a website and for each movie get all the reviews. It returns three lists: movies, reviews, and scores. "
   ]
  },
  {
   "cell_type": "code",
   "execution_count": 4,
   "metadata": {},
   "outputs": [],
   "source": [
    "def get_reviews():\n",
    "   reviews = []\n",
    "   scores = []\n",
    "   movies = []\n",
    "   all_movies_link = 'https://editorial.rottentomatoes.com/guide/marvel-movies-in-order/'\n",
    "   headers = {'User-Agent': \n",
    "           'Mozilla/5.0 (X11; Linux x86_64) AppleWebKit/537.36 (KHTML, like Gecko) Chrome/47.0.2526.106 Safari/537.36'}\n",
    "   pageTree = requests.get(all_movies_link, headers=headers)\n",
    "   pageSoup = BeautifulSoup(pageTree.content, 'html.parser')\n",
    "   all_movies = pageSoup.find_all('h2')\n",
    "   all_movies = all_movies[0:26]\n",
    "    \n",
    "   for item in all_movies:\n",
    "      movie_link = item.find('a')['href']\n",
    "      movie = item.find('a').text\n",
    "      reviews_link = movie_link + '/reviews'\n",
    "      all_movie_reviews(reviews_link, movie, movies, reviews, scores)\n",
    "\n",
    "   return reviews, scores, movies"
   ]
  },
  {
   "cell_type": "markdown",
   "metadata": {},
   "source": [
    "Now I can run the method above and create a dataframe. I will also save all results to a csv file, so I can reuse the results of web scraping without a need to run get_reviews.\n",
    "\n",
    "get_reviews took me 24 minutes to run because selenium takes time to load. If each page of reviews had a unique url, this process would be significantly faster. "
   ]
  },
  {
   "cell_type": "code",
   "execution_count": 5,
   "metadata": {},
   "outputs": [],
   "source": [
    "#reviews, scores, movies = get_reviews()\n",
    "#dataframe = pd.DataFrame({'movie': movies, 'review': reviews, 'score': scores})\n",
    "#dataframe.to_csv('reviews.csv', index=False)"
   ]
  },
  {
   "cell_type": "code",
   "execution_count": 6,
   "metadata": {},
   "outputs": [],
   "source": [
    "dataframe = pd.read_csv('reviews.csv')"
   ]
  },
  {
   "cell_type": "markdown",
   "metadata": {},
   "source": [
    "## Exploratory Data Analysis"
   ]
  },
  {
   "cell_type": "markdown",
   "metadata": {},
   "source": [
    "Now I will have a quick look over data. This is not a required step for a Bag of Words model, since the whole point of it is to strip text of all the unneccessary words, only to keep the most important ones. However, I am still curious about the data I have collected."
   ]
  },
  {
   "cell_type": "code",
   "execution_count": 7,
   "metadata": {},
   "outputs": [
    {
     "data": {
      "text/html": [
       "<div>\n",
       "<style scoped>\n",
       "    .dataframe tbody tr th:only-of-type {\n",
       "        vertical-align: middle;\n",
       "    }\n",
       "\n",
       "    .dataframe tbody tr th {\n",
       "        vertical-align: top;\n",
       "    }\n",
       "\n",
       "    .dataframe thead th {\n",
       "        text-align: right;\n",
       "    }\n",
       "</style>\n",
       "<table border=\"1\" class=\"dataframe\">\n",
       "  <thead>\n",
       "    <tr style=\"text-align: right;\">\n",
       "      <th></th>\n",
       "      <th>movie</th>\n",
       "      <th>review</th>\n",
       "      <th>score</th>\n",
       "    </tr>\n",
       "  </thead>\n",
       "  <tbody>\n",
       "    <tr>\n",
       "      <th>0</th>\n",
       "      <td>Captain America: The First Avenger</td>\n",
       "      <td>Lack of pop. There's not really much here that...</td>\n",
       "      <td>rotten</td>\n",
       "    </tr>\n",
       "    <tr>\n",
       "      <th>1</th>\n",
       "      <td>Captain America: The First Avenger</td>\n",
       "      <td>A perfect throwback and homage to the classic ...</td>\n",
       "      <td>fresh</td>\n",
       "    </tr>\n",
       "    <tr>\n",
       "      <th>2</th>\n",
       "      <td>Captain America: The First Avenger</td>\n",
       "      <td>I love the 1940s touches throughout and the ac...</td>\n",
       "      <td>fresh</td>\n",
       "    </tr>\n",
       "    <tr>\n",
       "      <th>3</th>\n",
       "      <td>Captain America: The First Avenger</td>\n",
       "      <td>The 40s setting is well realised, the characte...</td>\n",
       "      <td>fresh</td>\n",
       "    </tr>\n",
       "    <tr>\n",
       "      <th>4</th>\n",
       "      <td>Captain America: The First Avenger</td>\n",
       "      <td>Like a drastically more unbelievable Indiana J...</td>\n",
       "      <td>rotten</td>\n",
       "    </tr>\n",
       "  </tbody>\n",
       "</table>\n",
       "</div>"
      ],
      "text/plain": [
       "                                movie  \\\n",
       "0  Captain America: The First Avenger   \n",
       "1  Captain America: The First Avenger   \n",
       "2  Captain America: The First Avenger   \n",
       "3  Captain America: The First Avenger   \n",
       "4  Captain America: The First Avenger   \n",
       "\n",
       "                                              review   score  \n",
       "0  Lack of pop. There's not really much here that...  rotten  \n",
       "1  A perfect throwback and homage to the classic ...   fresh  \n",
       "2  I love the 1940s touches throughout and the ac...   fresh  \n",
       "3  The 40s setting is well realised, the characte...   fresh  \n",
       "4  Like a drastically more unbelievable Indiana J...  rotten  "
      ]
     },
     "execution_count": 7,
     "metadata": {},
     "output_type": "execute_result"
    }
   ],
   "source": [
    "dataframe.head()"
   ]
  },
  {
   "cell_type": "code",
   "execution_count": 8,
   "metadata": {},
   "outputs": [
    {
     "data": {
      "text/html": [
       "<div>\n",
       "<style scoped>\n",
       "    .dataframe tbody tr th:only-of-type {\n",
       "        vertical-align: middle;\n",
       "    }\n",
       "\n",
       "    .dataframe tbody tr th {\n",
       "        vertical-align: top;\n",
       "    }\n",
       "\n",
       "    .dataframe thead th {\n",
       "        text-align: right;\n",
       "    }\n",
       "</style>\n",
       "<table border=\"1\" class=\"dataframe\">\n",
       "  <thead>\n",
       "    <tr style=\"text-align: right;\">\n",
       "      <th></th>\n",
       "      <th>movie</th>\n",
       "      <th>review</th>\n",
       "      <th>score</th>\n",
       "    </tr>\n",
       "  </thead>\n",
       "  <tbody>\n",
       "    <tr>\n",
       "      <th>9877</th>\n",
       "      <td>Eternals</td>\n",
       "      <td>Eternals is beautifully shot and terrifically ...</td>\n",
       "      <td>fresh</td>\n",
       "    </tr>\n",
       "    <tr>\n",
       "      <th>9878</th>\n",
       "      <td>Eternals</td>\n",
       "      <td>Director Chlo Zhao's entry into the superhero ...</td>\n",
       "      <td>fresh</td>\n",
       "    </tr>\n",
       "    <tr>\n",
       "      <th>9879</th>\n",
       "      <td>Eternals</td>\n",
       "      <td>While Eternals has most of the benchmarks of a...</td>\n",
       "      <td>fresh</td>\n",
       "    </tr>\n",
       "    <tr>\n",
       "      <th>9880</th>\n",
       "      <td>Eternals</td>\n",
       "      <td>Unlike anything ever seen in the MCU before. T...</td>\n",
       "      <td>fresh</td>\n",
       "    </tr>\n",
       "    <tr>\n",
       "      <th>9881</th>\n",
       "      <td>Eternals</td>\n",
       "      <td>Setting aside whatever faults I found, Eternal...</td>\n",
       "      <td>fresh</td>\n",
       "    </tr>\n",
       "  </tbody>\n",
       "</table>\n",
       "</div>"
      ],
      "text/plain": [
       "         movie                                             review  score\n",
       "9877  Eternals  Eternals is beautifully shot and terrifically ...  fresh\n",
       "9878  Eternals  Director Chlo Zhao's entry into the superhero ...  fresh\n",
       "9879  Eternals  While Eternals has most of the benchmarks of a...  fresh\n",
       "9880  Eternals  Unlike anything ever seen in the MCU before. T...  fresh\n",
       "9881  Eternals  Setting aside whatever faults I found, Eternal...  fresh"
      ]
     },
     "execution_count": 8,
     "metadata": {},
     "output_type": "execute_result"
    }
   ],
   "source": [
    "dataframe.tail()"
   ]
  },
  {
   "cell_type": "markdown",
   "metadata": {},
   "source": [
    "So there are 9881 reviews for all MCU movies, starting with Captain America and ending with the latest release: Eternals. \n",
    "\n",
    "Firstly, lets check that for each movie, we have collected all the reviews and all the scores."
   ]
  },
  {
   "cell_type": "code",
   "execution_count": 9,
   "metadata": {},
   "outputs": [
    {
     "data": {
      "text/html": [
       "<div>\n",
       "<style scoped>\n",
       "    .dataframe tbody tr th:only-of-type {\n",
       "        vertical-align: middle;\n",
       "    }\n",
       "\n",
       "    .dataframe tbody tr th {\n",
       "        vertical-align: top;\n",
       "    }\n",
       "\n",
       "    .dataframe thead th {\n",
       "        text-align: right;\n",
       "    }\n",
       "</style>\n",
       "<table border=\"1\" class=\"dataframe\">\n",
       "  <thead>\n",
       "    <tr style=\"text-align: right;\">\n",
       "      <th></th>\n",
       "      <th>review</th>\n",
       "      <th>score</th>\n",
       "    </tr>\n",
       "    <tr>\n",
       "      <th>movie</th>\n",
       "      <th></th>\n",
       "      <th></th>\n",
       "    </tr>\n",
       "  </thead>\n",
       "  <tbody>\n",
       "    <tr>\n",
       "      <th>Ant-Man</th>\n",
       "      <td>336</td>\n",
       "      <td>336</td>\n",
       "    </tr>\n",
       "    <tr>\n",
       "      <th>Ant-Man and The Wasp</th>\n",
       "      <td>439</td>\n",
       "      <td>439</td>\n",
       "    </tr>\n",
       "    <tr>\n",
       "      <th>Avengers: Age of Ultron</th>\n",
       "      <td>375</td>\n",
       "      <td>375</td>\n",
       "    </tr>\n",
       "    <tr>\n",
       "      <th>Avengers: Endgame</th>\n",
       "      <td>547</td>\n",
       "      <td>547</td>\n",
       "    </tr>\n",
       "    <tr>\n",
       "      <th>Avengers: Infinity War</th>\n",
       "      <td>485</td>\n",
       "      <td>485</td>\n",
       "    </tr>\n",
       "    <tr>\n",
       "      <th>Black Panther</th>\n",
       "      <td>525</td>\n",
       "      <td>525</td>\n",
       "    </tr>\n",
       "    <tr>\n",
       "      <th>Black Widow</th>\n",
       "      <td>437</td>\n",
       "      <td>437</td>\n",
       "    </tr>\n",
       "    <tr>\n",
       "      <th>Captain America: Civil War</th>\n",
       "      <td>426</td>\n",
       "      <td>426</td>\n",
       "    </tr>\n",
       "    <tr>\n",
       "      <th>Captain America: The First Avenger</th>\n",
       "      <td>274</td>\n",
       "      <td>274</td>\n",
       "    </tr>\n",
       "    <tr>\n",
       "      <th>Captain America: The Winter Soldier</th>\n",
       "      <td>306</td>\n",
       "      <td>306</td>\n",
       "    </tr>\n",
       "    <tr>\n",
       "      <th>Captain Marvel</th>\n",
       "      <td>543</td>\n",
       "      <td>543</td>\n",
       "    </tr>\n",
       "    <tr>\n",
       "      <th>Doctor Strange</th>\n",
       "      <td>385</td>\n",
       "      <td>385</td>\n",
       "    </tr>\n",
       "    <tr>\n",
       "      <th>Eternals</th>\n",
       "      <td>358</td>\n",
       "      <td>358</td>\n",
       "    </tr>\n",
       "    <tr>\n",
       "      <th>Guardians of the Galaxy</th>\n",
       "      <td>334</td>\n",
       "      <td>334</td>\n",
       "    </tr>\n",
       "    <tr>\n",
       "      <th>Guardians of the Galaxy Vol. 2</th>\n",
       "      <td>422</td>\n",
       "      <td>422</td>\n",
       "    </tr>\n",
       "    <tr>\n",
       "      <th>Iron Man</th>\n",
       "      <td>281</td>\n",
       "      <td>281</td>\n",
       "    </tr>\n",
       "    <tr>\n",
       "      <th>Iron Man 2</th>\n",
       "      <td>304</td>\n",
       "      <td>304</td>\n",
       "    </tr>\n",
       "    <tr>\n",
       "      <th>Iron Man 3</th>\n",
       "      <td>329</td>\n",
       "      <td>329</td>\n",
       "    </tr>\n",
       "    <tr>\n",
       "      <th>Marvel's the Avengers</th>\n",
       "      <td>362</td>\n",
       "      <td>362</td>\n",
       "    </tr>\n",
       "    <tr>\n",
       "      <th>Shang-Chi and the Legend of the Ten Rings</th>\n",
       "      <td>318</td>\n",
       "      <td>318</td>\n",
       "    </tr>\n",
       "    <tr>\n",
       "      <th>Spider-Man: Far From Home</th>\n",
       "      <td>451</td>\n",
       "      <td>451</td>\n",
       "    </tr>\n",
       "    <tr>\n",
       "      <th>Spider-Man: Homecoming</th>\n",
       "      <td>394</td>\n",
       "      <td>394</td>\n",
       "    </tr>\n",
       "    <tr>\n",
       "      <th>The Incredible Hulk</th>\n",
       "      <td>238</td>\n",
       "      <td>238</td>\n",
       "    </tr>\n",
       "    <tr>\n",
       "      <th>Thor</th>\n",
       "      <td>291</td>\n",
       "      <td>291</td>\n",
       "    </tr>\n",
       "    <tr>\n",
       "      <th>Thor: Ragnarok</th>\n",
       "      <td>437</td>\n",
       "      <td>437</td>\n",
       "    </tr>\n",
       "    <tr>\n",
       "      <th>Thor: The Dark World</th>\n",
       "      <td>285</td>\n",
       "      <td>285</td>\n",
       "    </tr>\n",
       "  </tbody>\n",
       "</table>\n",
       "</div>"
      ],
      "text/plain": [
       "                                           review  score\n",
       "movie                                                   \n",
       "Ant-Man                                       336    336\n",
       "Ant-Man and The Wasp                          439    439\n",
       "Avengers: Age of Ultron                       375    375\n",
       "Avengers: Endgame                             547    547\n",
       "Avengers: Infinity War                        485    485\n",
       "Black Panther                                 525    525\n",
       "Black Widow                                   437    437\n",
       "Captain America: Civil War                    426    426\n",
       "Captain America: The First Avenger            274    274\n",
       "Captain America: The Winter Soldier           306    306\n",
       "Captain Marvel                                543    543\n",
       "Doctor Strange                                385    385\n",
       "Eternals                                      358    358\n",
       "Guardians of the Galaxy                       334    334\n",
       "Guardians of the Galaxy Vol. 2                422    422\n",
       "Iron Man                                      281    281\n",
       "Iron Man 2                                    304    304\n",
       "Iron Man 3                                    329    329\n",
       "Marvel's the Avengers                         362    362\n",
       "Shang-Chi and the Legend of the Ten Rings     318    318\n",
       "Spider-Man: Far From Home                     451    451\n",
       "Spider-Man: Homecoming                        394    394\n",
       "The Incredible Hulk                           238    238\n",
       "Thor                                          291    291\n",
       "Thor: Ragnarok                                437    437\n",
       "Thor: The Dark World                          285    285"
      ]
     },
     "execution_count": 9,
     "metadata": {},
     "output_type": "execute_result"
    }
   ],
   "source": [
    "dataframe.groupby('movie').count()"
   ]
  },
  {
   "cell_type": "markdown",
   "metadata": {},
   "source": [
    "We also need to change our scoring from categorical to numerical data type to be used later for classification."
   ]
  },
  {
   "cell_type": "code",
   "execution_count": 10,
   "metadata": {},
   "outputs": [
    {
     "data": {
      "text/html": [
       "<div>\n",
       "<style scoped>\n",
       "    .dataframe tbody tr th:only-of-type {\n",
       "        vertical-align: middle;\n",
       "    }\n",
       "\n",
       "    .dataframe tbody tr th {\n",
       "        vertical-align: top;\n",
       "    }\n",
       "\n",
       "    .dataframe thead th {\n",
       "        text-align: right;\n",
       "    }\n",
       "</style>\n",
       "<table border=\"1\" class=\"dataframe\">\n",
       "  <thead>\n",
       "    <tr style=\"text-align: right;\">\n",
       "      <th></th>\n",
       "      <th>movie</th>\n",
       "      <th>review</th>\n",
       "      <th>score</th>\n",
       "    </tr>\n",
       "  </thead>\n",
       "  <tbody>\n",
       "    <tr>\n",
       "      <th>0</th>\n",
       "      <td>Captain America: The First Avenger</td>\n",
       "      <td>Lack of pop. There's not really much here that...</td>\n",
       "      <td>0</td>\n",
       "    </tr>\n",
       "    <tr>\n",
       "      <th>1</th>\n",
       "      <td>Captain America: The First Avenger</td>\n",
       "      <td>A perfect throwback and homage to the classic ...</td>\n",
       "      <td>1</td>\n",
       "    </tr>\n",
       "    <tr>\n",
       "      <th>2</th>\n",
       "      <td>Captain America: The First Avenger</td>\n",
       "      <td>I love the 1940s touches throughout and the ac...</td>\n",
       "      <td>1</td>\n",
       "    </tr>\n",
       "    <tr>\n",
       "      <th>3</th>\n",
       "      <td>Captain America: The First Avenger</td>\n",
       "      <td>The 40s setting is well realised, the characte...</td>\n",
       "      <td>1</td>\n",
       "    </tr>\n",
       "    <tr>\n",
       "      <th>4</th>\n",
       "      <td>Captain America: The First Avenger</td>\n",
       "      <td>Like a drastically more unbelievable Indiana J...</td>\n",
       "      <td>0</td>\n",
       "    </tr>\n",
       "  </tbody>\n",
       "</table>\n",
       "</div>"
      ],
      "text/plain": [
       "                                movie  \\\n",
       "0  Captain America: The First Avenger   \n",
       "1  Captain America: The First Avenger   \n",
       "2  Captain America: The First Avenger   \n",
       "3  Captain America: The First Avenger   \n",
       "4  Captain America: The First Avenger   \n",
       "\n",
       "                                              review  score  \n",
       "0  Lack of pop. There's not really much here that...      0  \n",
       "1  A perfect throwback and homage to the classic ...      1  \n",
       "2  I love the 1940s touches throughout and the ac...      1  \n",
       "3  The 40s setting is well realised, the characte...      1  \n",
       "4  Like a drastically more unbelievable Indiana J...      0  "
      ]
     },
     "execution_count": 10,
     "metadata": {},
     "output_type": "execute_result"
    }
   ],
   "source": [
    "dataframe = dataframe.replace({'score': {'fresh': 1, 'rotten': 0}})\n",
    "dataframe.head()"
   ]
  },
  {
   "cell_type": "markdown",
   "metadata": {},
   "source": [
    "Moreover, by assigning rotten to 0 and fresh to 1, we can easily calculate how many fresh (or rotten) scores each movie has, as well as the fraction of fresh scores."
   ]
  },
  {
   "cell_type": "code",
   "execution_count": 11,
   "metadata": {},
   "outputs": [
    {
     "data": {
      "text/html": [
       "<div>\n",
       "<style scoped>\n",
       "    .dataframe tbody tr th:only-of-type {\n",
       "        vertical-align: middle;\n",
       "    }\n",
       "\n",
       "    .dataframe tbody tr th {\n",
       "        vertical-align: top;\n",
       "    }\n",
       "\n",
       "    .dataframe thead th {\n",
       "        text-align: right;\n",
       "    }\n",
       "</style>\n",
       "<table border=\"1\" class=\"dataframe\">\n",
       "  <thead>\n",
       "    <tr style=\"text-align: right;\">\n",
       "      <th></th>\n",
       "      <th>score</th>\n",
       "    </tr>\n",
       "    <tr>\n",
       "      <th>movie</th>\n",
       "      <th></th>\n",
       "    </tr>\n",
       "  </thead>\n",
       "  <tbody>\n",
       "    <tr>\n",
       "      <th>Avengers: Endgame</th>\n",
       "      <td>513</td>\n",
       "    </tr>\n",
       "    <tr>\n",
       "      <th>Black Panther</th>\n",
       "      <td>506</td>\n",
       "    </tr>\n",
       "    <tr>\n",
       "      <th>Captain Marvel</th>\n",
       "      <td>429</td>\n",
       "    </tr>\n",
       "    <tr>\n",
       "      <th>Avengers: Infinity War</th>\n",
       "      <td>412</td>\n",
       "    </tr>\n",
       "    <tr>\n",
       "      <th>Thor: Ragnarok</th>\n",
       "      <td>407</td>\n",
       "    </tr>\n",
       "    <tr>\n",
       "      <th>Spider-Man: Far From Home</th>\n",
       "      <td>407</td>\n",
       "    </tr>\n",
       "    <tr>\n",
       "      <th>Captain America: Civil War</th>\n",
       "      <td>384</td>\n",
       "    </tr>\n",
       "    <tr>\n",
       "      <th>Ant-Man and The Wasp</th>\n",
       "      <td>383</td>\n",
       "    </tr>\n",
       "    <tr>\n",
       "      <th>Spider-Man: Homecoming</th>\n",
       "      <td>360</td>\n",
       "    </tr>\n",
       "    <tr>\n",
       "      <th>Guardians of the Galaxy Vol. 2</th>\n",
       "      <td>358</td>\n",
       "    </tr>\n",
       "    <tr>\n",
       "      <th>Black Widow</th>\n",
       "      <td>345</td>\n",
       "    </tr>\n",
       "    <tr>\n",
       "      <th>Doctor Strange</th>\n",
       "      <td>342</td>\n",
       "    </tr>\n",
       "    <tr>\n",
       "      <th>Marvel's the Avengers</th>\n",
       "      <td>329</td>\n",
       "    </tr>\n",
       "    <tr>\n",
       "      <th>Guardians of the Galaxy</th>\n",
       "      <td>306</td>\n",
       "    </tr>\n",
       "    <tr>\n",
       "      <th>Shang-Chi and the Legend of the Ten Rings</th>\n",
       "      <td>291</td>\n",
       "    </tr>\n",
       "    <tr>\n",
       "      <th>Avengers: Age of Ultron</th>\n",
       "      <td>284</td>\n",
       "    </tr>\n",
       "    <tr>\n",
       "      <th>Ant-Man</th>\n",
       "      <td>278</td>\n",
       "    </tr>\n",
       "    <tr>\n",
       "      <th>Captain America: The Winter Soldier</th>\n",
       "      <td>275</td>\n",
       "    </tr>\n",
       "    <tr>\n",
       "      <th>Iron Man</th>\n",
       "      <td>263</td>\n",
       "    </tr>\n",
       "    <tr>\n",
       "      <th>Iron Man 3</th>\n",
       "      <td>261</td>\n",
       "    </tr>\n",
       "    <tr>\n",
       "      <th>Thor</th>\n",
       "      <td>224</td>\n",
       "    </tr>\n",
       "    <tr>\n",
       "      <th>Iron Man 2</th>\n",
       "      <td>219</td>\n",
       "    </tr>\n",
       "    <tr>\n",
       "      <th>Captain America: The First Avenger</th>\n",
       "      <td>218</td>\n",
       "    </tr>\n",
       "    <tr>\n",
       "      <th>Thor: The Dark World</th>\n",
       "      <td>189</td>\n",
       "    </tr>\n",
       "    <tr>\n",
       "      <th>Eternals</th>\n",
       "      <td>170</td>\n",
       "    </tr>\n",
       "    <tr>\n",
       "      <th>The Incredible Hulk</th>\n",
       "      <td>159</td>\n",
       "    </tr>\n",
       "  </tbody>\n",
       "</table>\n",
       "</div>"
      ],
      "text/plain": [
       "                                           score\n",
       "movie                                           \n",
       "Avengers: Endgame                            513\n",
       "Black Panther                                506\n",
       "Captain Marvel                               429\n",
       "Avengers: Infinity War                       412\n",
       "Thor: Ragnarok                               407\n",
       "Spider-Man: Far From Home                    407\n",
       "Captain America: Civil War                   384\n",
       "Ant-Man and The Wasp                         383\n",
       "Spider-Man: Homecoming                       360\n",
       "Guardians of the Galaxy Vol. 2               358\n",
       "Black Widow                                  345\n",
       "Doctor Strange                               342\n",
       "Marvel's the Avengers                        329\n",
       "Guardians of the Galaxy                      306\n",
       "Shang-Chi and the Legend of the Ten Rings    291\n",
       "Avengers: Age of Ultron                      284\n",
       "Ant-Man                                      278\n",
       "Captain America: The Winter Soldier          275\n",
       "Iron Man                                     263\n",
       "Iron Man 3                                   261\n",
       "Thor                                         224\n",
       "Iron Man 2                                   219\n",
       "Captain America: The First Avenger           218\n",
       "Thor: The Dark World                         189\n",
       "Eternals                                     170\n",
       "The Incredible Hulk                          159"
      ]
     },
     "execution_count": 11,
     "metadata": {},
     "output_type": "execute_result"
    }
   ],
   "source": [
    "dataframe.groupby('movie').sum('scores').sort_values(by='score', ascending=False)"
   ]
  },
  {
   "cell_type": "code",
   "execution_count": 12,
   "metadata": {},
   "outputs": [
    {
     "data": {
      "text/html": [
       "<div>\n",
       "<style scoped>\n",
       "    .dataframe tbody tr th:only-of-type {\n",
       "        vertical-align: middle;\n",
       "    }\n",
       "\n",
       "    .dataframe tbody tr th {\n",
       "        vertical-align: top;\n",
       "    }\n",
       "\n",
       "    .dataframe thead th {\n",
       "        text-align: right;\n",
       "    }\n",
       "</style>\n",
       "<table border=\"1\" class=\"dataframe\">\n",
       "  <thead>\n",
       "    <tr style=\"text-align: right;\">\n",
       "      <th></th>\n",
       "      <th>score</th>\n",
       "    </tr>\n",
       "    <tr>\n",
       "      <th>movie</th>\n",
       "      <th></th>\n",
       "    </tr>\n",
       "  </thead>\n",
       "  <tbody>\n",
       "    <tr>\n",
       "      <th>Black Panther</th>\n",
       "      <td>0.963810</td>\n",
       "    </tr>\n",
       "    <tr>\n",
       "      <th>Avengers: Endgame</th>\n",
       "      <td>0.937843</td>\n",
       "    </tr>\n",
       "    <tr>\n",
       "      <th>Iron Man</th>\n",
       "      <td>0.935943</td>\n",
       "    </tr>\n",
       "    <tr>\n",
       "      <th>Thor: Ragnarok</th>\n",
       "      <td>0.931350</td>\n",
       "    </tr>\n",
       "    <tr>\n",
       "      <th>Guardians of the Galaxy</th>\n",
       "      <td>0.916168</td>\n",
       "    </tr>\n",
       "    <tr>\n",
       "      <th>Shang-Chi and the Legend of the Ten Rings</th>\n",
       "      <td>0.915094</td>\n",
       "    </tr>\n",
       "    <tr>\n",
       "      <th>Spider-Man: Homecoming</th>\n",
       "      <td>0.913706</td>\n",
       "    </tr>\n",
       "    <tr>\n",
       "      <th>Marvel's the Avengers</th>\n",
       "      <td>0.908840</td>\n",
       "    </tr>\n",
       "    <tr>\n",
       "      <th>Spider-Man: Far From Home</th>\n",
       "      <td>0.902439</td>\n",
       "    </tr>\n",
       "    <tr>\n",
       "      <th>Captain America: Civil War</th>\n",
       "      <td>0.901408</td>\n",
       "    </tr>\n",
       "    <tr>\n",
       "      <th>Captain America: The Winter Soldier</th>\n",
       "      <td>0.898693</td>\n",
       "    </tr>\n",
       "    <tr>\n",
       "      <th>Doctor Strange</th>\n",
       "      <td>0.888312</td>\n",
       "    </tr>\n",
       "    <tr>\n",
       "      <th>Ant-Man and The Wasp</th>\n",
       "      <td>0.872437</td>\n",
       "    </tr>\n",
       "    <tr>\n",
       "      <th>Avengers: Infinity War</th>\n",
       "      <td>0.849485</td>\n",
       "    </tr>\n",
       "    <tr>\n",
       "      <th>Guardians of the Galaxy Vol. 2</th>\n",
       "      <td>0.848341</td>\n",
       "    </tr>\n",
       "    <tr>\n",
       "      <th>Ant-Man</th>\n",
       "      <td>0.827381</td>\n",
       "    </tr>\n",
       "    <tr>\n",
       "      <th>Captain America: The First Avenger</th>\n",
       "      <td>0.795620</td>\n",
       "    </tr>\n",
       "    <tr>\n",
       "      <th>Iron Man 3</th>\n",
       "      <td>0.793313</td>\n",
       "    </tr>\n",
       "    <tr>\n",
       "      <th>Captain Marvel</th>\n",
       "      <td>0.790055</td>\n",
       "    </tr>\n",
       "    <tr>\n",
       "      <th>Black Widow</th>\n",
       "      <td>0.789474</td>\n",
       "    </tr>\n",
       "    <tr>\n",
       "      <th>Thor</th>\n",
       "      <td>0.769759</td>\n",
       "    </tr>\n",
       "    <tr>\n",
       "      <th>Avengers: Age of Ultron</th>\n",
       "      <td>0.757333</td>\n",
       "    </tr>\n",
       "    <tr>\n",
       "      <th>Iron Man 2</th>\n",
       "      <td>0.720395</td>\n",
       "    </tr>\n",
       "    <tr>\n",
       "      <th>The Incredible Hulk</th>\n",
       "      <td>0.668067</td>\n",
       "    </tr>\n",
       "    <tr>\n",
       "      <th>Thor: The Dark World</th>\n",
       "      <td>0.663158</td>\n",
       "    </tr>\n",
       "    <tr>\n",
       "      <th>Eternals</th>\n",
       "      <td>0.474860</td>\n",
       "    </tr>\n",
       "  </tbody>\n",
       "</table>\n",
       "</div>"
      ],
      "text/plain": [
       "                                              score\n",
       "movie                                              \n",
       "Black Panther                              0.963810\n",
       "Avengers: Endgame                          0.937843\n",
       "Iron Man                                   0.935943\n",
       "Thor: Ragnarok                             0.931350\n",
       "Guardians of the Galaxy                    0.916168\n",
       "Shang-Chi and the Legend of the Ten Rings  0.915094\n",
       "Spider-Man: Homecoming                     0.913706\n",
       "Marvel's the Avengers                      0.908840\n",
       "Spider-Man: Far From Home                  0.902439\n",
       "Captain America: Civil War                 0.901408\n",
       "Captain America: The Winter Soldier        0.898693\n",
       "Doctor Strange                             0.888312\n",
       "Ant-Man and The Wasp                       0.872437\n",
       "Avengers: Infinity War                     0.849485\n",
       "Guardians of the Galaxy Vol. 2             0.848341\n",
       "Ant-Man                                    0.827381\n",
       "Captain America: The First Avenger         0.795620\n",
       "Iron Man 3                                 0.793313\n",
       "Captain Marvel                             0.790055\n",
       "Black Widow                                0.789474\n",
       "Thor                                       0.769759\n",
       "Avengers: Age of Ultron                    0.757333\n",
       "Iron Man 2                                 0.720395\n",
       "The Incredible Hulk                        0.668067\n",
       "Thor: The Dark World                       0.663158\n",
       "Eternals                                   0.474860"
      ]
     },
     "execution_count": 12,
     "metadata": {},
     "output_type": "execute_result"
    }
   ],
   "source": [
    "dataframe.groupby('movie').mean('scores').sort_values(by='score', ascending=False)"
   ]
  },
  {
   "cell_type": "markdown",
   "metadata": {},
   "source": [
    "It seems like reviewers hated Eternals. I quite liked it!"
   ]
  },
  {
   "cell_type": "markdown",
   "metadata": {},
   "source": [
    "Finally, it is important to check the distribution of rotten and fresh scores. Unbalanced distrbution would be problematic when we train classification models, so if dataset is unbalanced, over(under)sampling should be used."
   ]
  },
  {
   "cell_type": "code",
   "execution_count": 13,
   "metadata": {},
   "outputs": [
    {
     "data": {
      "text/html": [
       "<div>\n",
       "<style scoped>\n",
       "    .dataframe tbody tr th:only-of-type {\n",
       "        vertical-align: middle;\n",
       "    }\n",
       "\n",
       "    .dataframe tbody tr th {\n",
       "        vertical-align: top;\n",
       "    }\n",
       "\n",
       "    .dataframe thead th {\n",
       "        text-align: right;\n",
       "    }\n",
       "</style>\n",
       "<table border=\"1\" class=\"dataframe\">\n",
       "  <thead>\n",
       "    <tr style=\"text-align: right;\">\n",
       "      <th></th>\n",
       "      <th>review</th>\n",
       "    </tr>\n",
       "    <tr>\n",
       "      <th>score</th>\n",
       "      <th></th>\n",
       "    </tr>\n",
       "  </thead>\n",
       "  <tbody>\n",
       "    <tr>\n",
       "      <th>0</th>\n",
       "      <td>1570</td>\n",
       "    </tr>\n",
       "    <tr>\n",
       "      <th>1</th>\n",
       "      <td>8312</td>\n",
       "    </tr>\n",
       "  </tbody>\n",
       "</table>\n",
       "</div>"
      ],
      "text/plain": [
       "       review\n",
       "score        \n",
       "0        1570\n",
       "1        8312"
      ]
     },
     "execution_count": 13,
     "metadata": {},
     "output_type": "execute_result"
    }
   ],
   "source": [
    "dataframe.groupby('score').count().drop('movie', axis=1)"
   ]
  },
  {
   "cell_type": "markdown",
   "metadata": {},
   "source": [
    "As we can see marvel has significantly more fresh reviews. So before training I will need to solve this problem!"
   ]
  },
  {
   "cell_type": "markdown",
   "metadata": {},
   "source": [
    "## Data Cleanup"
   ]
  },
  {
   "cell_type": "markdown",
   "metadata": {},
   "source": [
    "First thing to do would be to clean up review column. Quite often in the reviews, there are [] brackets that have words in them that complete the sentence. Let's look at all reviews that have it. "
   ]
  },
  {
   "cell_type": "code",
   "execution_count": 14,
   "metadata": {},
   "outputs": [
    {
     "name": "stdout",
     "output_type": "stream",
     "text": [
      "['[E]normously entertaining... deft and witty... [C]heering and poignant at the same time, recalling the promise of a future that ended up going in a different direction...', '[A] clean, unpretentious, brawnily entertaining fantasia.', \"[it] generally moves along with moxie, charm, gobs of special effects and stunt work, and fond memories of the USO style shows that sold war bonds and boosted support in the battle against the Nazis. Yes, there's even some singing and dancing.\", '[A] so-so experience.', \"[The hero's] transformation from commonplace but with personality to bulky but generally nondescript echoes the movie's own shift.\", \"[Marvel] saved one of their very best movies for last, and I suspect Captain America: The First Avenger will send audiences out of the theater rabid to see what's next.\", '[A] hokey, hacky, two-hour-plus exercise in franchise transition/price gouging, complete with utterly unnecessary post-converted 3-D.', 'Larson plays [Captain Marvel] with dignity and has a lot of charisma. [Full review in Spanish]', \"[Captain Marvel] is a blast-- a rip roarin' thrill ride full of humor, heart and guilty-pleasure '90s nostalgia that flips the expectation of an origin story genre on its head.\", \"It's far from being the best MCU film, but it does a decent job on introducing on of the most powerful characters of that universe. [Full review in Spanish]\"]\n"
     ]
    }
   ],
   "source": [
    "reviews_with_brackets = []\n",
    "for review in dataframe['review']:\n",
    "    if review.find('[') != -1:\n",
    "        reviews_with_brackets.append(review)\n",
    "\n",
    "print(reviews_with_brackets[:10])"
   ]
  },
  {
   "cell_type": "markdown",
   "metadata": {},
   "source": [
    "We can see that there are quite a lot of reviews that were written in the other language, so they have a note at the end. We should remove them since these are irrelevant. "
   ]
  },
  {
   "cell_type": "code",
   "execution_count": 15,
   "metadata": {},
   "outputs": [],
   "source": [
    "for review in dataframe['review']:\n",
    "    last_bracket = review.rfind('[Full')\n",
    "    if last_bracket != -1:\n",
    "        review = review[:last_bracket-1]"
   ]
  },
  {
   "cell_type": "markdown",
   "metadata": {},
   "source": [
    "## Bag of Words"
   ]
  },
  {
   "cell_type": "markdown",
   "metadata": {},
   "source": [
    "Now it is time for a bag of words model. First thing is that we want to download all the stopwords in english language."
   ]
  },
  {
   "cell_type": "code",
   "execution_count": 16,
   "metadata": {},
   "outputs": [
    {
     "name": "stdout",
     "output_type": "stream",
     "text": [
      "['i', 'me', 'my', 'myself', 'we', 'our', 'ours', 'ourselves', 'you', \"you're\", \"you've\", \"you'll\", \"you'd\", 'your', 'yours', 'yourself', 'yourselves', 'he', 'him', 'his', 'himself', 'she', \"she's\", 'her', 'hers', 'herself', 'it', \"it's\", 'its', 'itself', 'they', 'them', 'their', 'theirs', 'themselves', 'what', 'which', 'who', 'whom', 'this', 'that', \"that'll\", 'these', 'those', 'am', 'is', 'are', 'was', 'were', 'be', 'been', 'being', 'have', 'has', 'had', 'having', 'do', 'does', 'did', 'doing', 'a', 'an', 'the', 'and', 'but', 'if', 'or', 'because', 'as', 'until', 'while', 'of', 'at', 'by', 'for', 'with', 'about', 'against', 'between', 'into', 'through', 'during', 'before', 'after', 'above', 'below', 'to', 'from', 'up', 'down', 'in', 'out', 'on', 'off', 'over', 'under', 'again', 'further', 'then', 'once', 'here', 'there', 'when', 'where', 'why', 'how', 'all', 'any', 'both', 'each', 'few', 'more', 'most', 'other', 'some', 'such', 'no', 'nor', 'not', 'only', 'own', 'same', 'so', 'than', 'too', 'very', 's', 't', 'can', 'will', 'just', 'don', \"don't\", 'should', \"should've\", 'now', 'd', 'll', 'm', 'o', 're', 've', 'y', 'ain', 'aren', \"aren't\", 'couldn', \"couldn't\", 'didn', \"didn't\", 'doesn', \"doesn't\", 'hadn', \"hadn't\", 'hasn', \"hasn't\", 'haven', \"haven't\", 'isn', \"isn't\", 'ma', 'mightn', \"mightn't\", 'mustn', \"mustn't\", 'needn', \"needn't\", 'shan', \"shan't\", 'shouldn', \"shouldn't\", 'wasn', \"wasn't\", 'weren', \"weren't\", 'won', \"won't\", 'wouldn', \"wouldn't\"]\n"
     ]
    }
   ],
   "source": [
    "corpus = []\n",
    "all_stopwords = stopwords.words('english')\n",
    "print(all_stopwords)"
   ]
  },
  {
   "cell_type": "markdown",
   "metadata": {},
   "source": [
    "While the majority of the stopwords are good to go, there are some that would actually damage our predictions. In particular, didn't. If we remove it from the review, the phrase \"I wish I didn't go\" which clearly has a negative connotation, turn to \"I wish I go\" which is positive. So we need to remove some stopwords from this least. "
   ]
  },
  {
   "cell_type": "code",
   "execution_count": 17,
   "metadata": {},
   "outputs": [
    {
     "name": "stdout",
     "output_type": "stream",
     "text": [
      "['i', 'me', 'my', 'myself', 'we', 'our', 'ours', 'ourselves', 'you', \"you're\", \"you've\", \"you'll\", \"you'd\", 'your', 'yours', 'yourself', 'yourselves', 'he', 'him', 'his', 'himself', 'she', \"she's\", 'her', 'hers', 'herself', 'it', \"it's\", 'its', 'itself', 'they', 'them', 'their', 'theirs', 'themselves', 'what', 'which', 'who', 'whom', 'this', 'that', \"that'll\", 'these', 'those', 'am', 'is', 'are', 'was', 'were', 'be', 'been', 'being', 'have', 'has', 'had', 'having', 'do', 'does', 'did', 'doing', 'a', 'an', 'the', 'and', 'but', 'if', 'or', 'because', 'as', 'until', 'while', 'of', 'at', 'by', 'for', 'with', 'about', 'against', 'into', 'through', 'during', 'before', 'after', 'to', 'from', 'up', 'down', 'in', 'out', 'on', 'off', 'over', 'under', 'again', 'further', 'then', 'once', 'here', 'there', 'when', 'where', 'why', 'how', 'all', 'any', 'both', 'each', 'few', 'more', 'other', 'some', 'such', 'no', 'only', 'own', 'same', 'so', 'than', 's', 't', 'can', 'will', 'just', 'should', \"should've\", 'now', 'd', 'll', 'm', 'o', 're', 've', 'y']\n"
     ]
    }
   ],
   "source": [
    "not_stopwords = ['between', 'below', 'above', 'most', 'not', 'nor', 'too', 'very', 'don', \"don't\", 'ain', 'aren', \"aren't\", 'couldn', \"couldn't\", 'didn', \"didn't\", 'doesn', \"doesn't\", 'hadn', \"hadn't\", 'hasn', \"hasn't\", 'haven', \"haven't\", 'isn', \"isn't\", 'ma', 'mightn', \"mightn't\", 'mustn', \"mustn't\", 'needn', \"needn't\", 'shan', \"shan't\", 'shouldn', \"shouldn't\", 'wasn', \"wasn't\", 'weren', \"weren't\", 'won', \"won't\", 'wouldn', \"wouldn't\"]\n",
    "\n",
    "for word in not_stopwords:\n",
    "    try:\n",
    "        all_stopwords.remove(word)\n",
    "    except:\n",
    "        pass\n",
    "print(all_stopwords)"
   ]
  },
  {
   "cell_type": "markdown",
   "metadata": {},
   "source": [
    "Now it is time to cleanup the reviews. There are several things we want to do. Firstly, we want to remove all the punctuation, and the brackets (thats why in Data Cleaning we only removed some brackets, cause other brackets would be removed here now), and just leave empty spaces instead. Secondly, we want to lower all the words, so words like 'Hello' and 'hello' are counted as same. Thirdly, we want to split each word in a review into a list of words. Finally, we want to take the stem of each word, so words like 'party' and 'partying' are counted as same. This step is crucial with verbs in particular. At this step we also remove all the stop words. Finally, we join all the words together with spaces in between and put them in corpus array."
   ]
  },
  {
   "cell_type": "code",
   "execution_count": 18,
   "metadata": {},
   "outputs": [],
   "source": [
    "for review in dataframe['review']:\n",
    "    review = re.sub('[^a-zA-Z]', ' ', review)\n",
    "    review = review.lower()\n",
    "    review = review.split()\n",
    "    ps = PorterStemmer()\n",
    "    review = [ps.stem(word) for word in review if not word in set(all_stopwords)]\n",
    "    review = ' '.join(review)\n",
    "    corpus.append(review)"
   ]
  },
  {
   "cell_type": "markdown",
   "metadata": {},
   "source": [
    "Final step is to use CountVectorizer, to create a matrix, in which each unique word corresponds to a column, and each review is a row. So if the review contained specific word, it has its count; otherwise it has 0. "
   ]
  },
  {
   "cell_type": "code",
   "execution_count": 19,
   "metadata": {},
   "outputs": [],
   "source": [
    "from sklearn.feature_extraction.text import CountVectorizer\n",
    "cv = CountVectorizer()\n",
    "X = cv.fit_transform(corpus).toarray()\n",
    "y = dataframe['score']"
   ]
  },
  {
   "cell_type": "markdown",
   "metadata": {},
   "source": [
    "## Classification: Data Preprocessing and Model Selection"
   ]
  },
  {
   "cell_type": "markdown",
   "metadata": {},
   "source": [
    "Now it's time for data preprocessing. First thing to do is to create train and test sets. "
   ]
  },
  {
   "cell_type": "code",
   "execution_count": 20,
   "metadata": {},
   "outputs": [],
   "source": [
    "from sklearn.model_selection import train_test_split\n",
    "X_train, X_test, y_train, y_test = train_test_split(X, y, test_size=0.15, random_state=0, stratify=y)"
   ]
  },
  {
   "cell_type": "markdown",
   "metadata": {},
   "source": [
    "Above, I have discussed how this set is unbalanced, i.e. it has much more fresh scores than rotten. We want to have test set to be representative of the data, that's why we have set stratify to 'yes' in a previous step. Moreover, it is crucial to do a split before adding or removing samples, because test sets needs to be representative of the real world data. \n",
    "\n",
    "So now the question arises: should I oversample or undersample. Usually, it is pretty easy to oversample, however, with the reviews, it is difficult to make up new observations. So we are going to undersample."
   ]
  },
  {
   "cell_type": "code",
   "execution_count": 21,
   "metadata": {},
   "outputs": [],
   "source": [
    "sampler = RandomUnderSampler(sampling_strategy='majority')\n",
    "X_train_sample, y_train_sample = sampler.fit_resample(X_train, y_train)"
   ]
  },
  {
   "cell_type": "code",
   "execution_count": 22,
   "metadata": {},
   "outputs": [
    {
     "data": {
      "text/plain": [
       "0    1334\n",
       "1    1334\n",
       "Name: score, dtype: int64"
      ]
     },
     "execution_count": 22,
     "metadata": {},
     "output_type": "execute_result"
    }
   ],
   "source": [
    "y_train_sample.value_counts()"
   ]
  },
  {
   "cell_type": "markdown",
   "metadata": {},
   "source": [
    "After undersampling, we get a training size of 2668 reviews, which is still pretty good. "
   ]
  },
  {
   "cell_type": "markdown",
   "metadata": {},
   "source": [
    "Now it is time to choose the best classification model. For this project, I have decided to try Logistic Regression, K-Nearest Neighbors, Random Forest Classifier, and XGBoost Classifier. Since the training dataset is balanced, we can use accuracy as our main evaluation metric."
   ]
  },
  {
   "cell_type": "code",
   "execution_count": 23,
   "metadata": {},
   "outputs": [],
   "source": [
    "lr = LogisticRegression(solver='liblinear', class_weight='balanced')\n",
    "knn = KNN()\n",
    "rf = RandomForestClassifier()\n",
    "xgb = XGBClassifier(eval_metric='mlogloss')\n",
    "classifiers = [('Logistic Regression', lr), ('K Nearest Neighbours', knn), ('XGB Classifier', xgb),('Random Forest', rf)]"
   ]
  },
  {
   "cell_type": "code",
   "execution_count": 24,
   "metadata": {},
   "outputs": [
    {
     "name": "stdout",
     "output_type": "stream",
     "text": [
      "Logistic Regression \n",
      "0.7106449958190161\n",
      "K Nearest Neighbours \n",
      "0.5554637378698766\n",
      "XGB Classifier \n",
      "0.6817807477988349\n",
      "Random Forest \n",
      "0.6964001377265285\n"
     ]
    }
   ],
   "source": [
    "for clf_name, clf in classifiers:\n",
    "    pipe = Pipeline(steps=[('classifier', clf)])\n",
    "    pipe.fit(X_train_sample, y_train_sample)\n",
    "    y_pred = pipe.predict(X_test)\n",
    "    print(f'{clf_name} ')\n",
    "    print(mean(cross_val_score(clf, X_train_sample, y_train_sample, scoring='accuracy', cv=5)))"
   ]
  },
  {
   "cell_type": "markdown",
   "metadata": {},
   "source": [
    "So we can see that Logistic Regression performs the best. Now we can try to use it on a test set."
   ]
  },
  {
   "cell_type": "code",
   "execution_count": 25,
   "metadata": {},
   "outputs": [
    {
     "name": "stdout",
     "output_type": "stream",
     "text": [
      "0.6945380984490896\n",
      "[[870 377]\n",
      " [ 76 160]]\n",
      "              precision    recall  f1-score   support\n",
      "\n",
      "           0       0.30      0.68      0.41       236\n",
      "           1       0.92      0.70      0.79      1247\n",
      "\n",
      "    accuracy                           0.69      1483\n",
      "   macro avg       0.61      0.69      0.60      1483\n",
      "weighted avg       0.82      0.69      0.73      1483\n",
      "\n"
     ]
    }
   ],
   "source": [
    "lr.fit(X_train_sample, y_train_sample)\n",
    "y_pred = lr.predict(X_test)\n",
    "print(accuracy_score(y_test, y_pred))\n",
    "print(confusion_matrix(y_test, y_pred, labels=[1, 0]))\n",
    "print(classification_report(y_test, y_pred))"
   ]
  },
  {
   "cell_type": "markdown",
   "metadata": {},
   "source": [
    "Wow! While the accuracy seems to be around 70%, we can see that the model actually does not perform very well. While it generally performs well for fresh reviews, we can see that the precision for rotten reviews is too low. In other words, out of all reviews that were classified as rotten, only 30 percent of them were, in fact, rotten. It has quite good recall; however, the main explanation is that there are only 236 observation in the support, and since the model overclassifies many reviews for rotten, it is bound to get a lot of correct as well. \n",
    "\n",
    "For fresh reviews everything seems to be much better. While its recall is 70%, the precision is 92% meaning that while it did not get all the positive(fresh) reviews, from the ones it got, 92% of them were correctly classified. "
   ]
  },
  {
   "cell_type": "markdown",
   "metadata": {},
   "source": [
    "## Conclusion"
   ]
  },
  {
   "cell_type": "markdown",
   "metadata": {},
   "source": [
    "Overall, the model does not perform that well. We can see that it really struggles to identify negative reviews and instead classifies way to many positive reviews as negatives. There are two possible solutions:\n",
    "\n",
    "1. Maybe we can improve upon Bag of Word model. Maybe we removed some words that change the meaning from positive to negative. \n",
    "2. Get more reviews. The model may need more observations to correctly identify what words make negative reviews negative. While we had lost a lot of positive reviews, we used all negative reviews, and it was still not enough."
   ]
  },
  {
   "cell_type": "markdown",
   "metadata": {},
   "source": []
  }
 ],
 "metadata": {
  "interpreter": {
   "hash": "ee6f022951eb6ed93b620ee25595bf1afceb274eb3637af1e721bcc987aa355b"
  },
  "kernelspec": {
   "display_name": "Python 3.8.11 64-bit ('base': conda)",
   "language": "python",
   "name": "python3"
  },
  "language_info": {
   "codemirror_mode": {
    "name": "ipython",
    "version": 3
   },
   "file_extension": ".py",
   "mimetype": "text/x-python",
   "name": "python",
   "nbconvert_exporter": "python",
   "pygments_lexer": "ipython3",
   "version": "3.9.7"
  },
  "orig_nbformat": 4
 },
 "nbformat": 4,
 "nbformat_minor": 2
}
