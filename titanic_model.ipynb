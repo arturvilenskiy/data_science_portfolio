{
 "cells": [
  {
   "cell_type": "markdown",
   "source": [
    "# Titanic Dataset: Predicting Survivability"
   ],
   "metadata": {}
  },
  {
   "cell_type": "markdown",
   "source": [
    "## Plan of Attack"
   ],
   "metadata": {}
  },
  {
   "cell_type": "markdown",
   "source": [
    "## Import Libraries"
   ],
   "metadata": {}
  },
  {
   "cell_type": "code",
   "execution_count": 943,
   "source": [
    "import pandas as pd\r\n",
    "import numpy as np\r\n",
    "from sklearn.model_selection import train_test_split, cross_val_score, GridSearchCV\r\n",
    "from sklearn.preprocessing import StandardScaler, OneHotEncoder, OrdinalEncoder\r\n",
    "from sklearn.pipeline import Pipeline\r\n",
    "from sklearn.impute import SimpleImputer\r\n",
    "from sklearn.compose import ColumnTransformer\r\n",
    "from sklearn.linear_model import LogisticRegression\r\n",
    "from sklearn.tree import DecisionTreeClassifier\r\n",
    "from sklearn.neighbors import KNeighborsClassifier as KNN\r\n",
    "from sklearn.naive_bayes import GaussianNB\r\n",
    "from sklearn.ensemble import RandomForestClassifier\r\n",
    "from sklearn.metrics import accuracy_score, confusion_matrix\r\n",
    "from xgboost import XGBClassifier\r\n",
    "import warnings\r\n",
    "warnings.filterwarnings('ignore')\r\n"
   ],
   "outputs": [],
   "metadata": {}
  },
  {
   "cell_type": "markdown",
   "source": [
    "## Custom Functions"
   ],
   "metadata": {}
  },
  {
   "cell_type": "code",
   "execution_count": 944,
   "source": [
    "def concat_df(train, test):\r\n",
    "    return pd.concat([train, test], sort=True).reset_index(drop=True)\r\n",
    "\r\n",
    "def separate_df(train_test):\r\n",
    "    return train_test[:890], train_test[891:].drop(['Survived'], axis=1)"
   ],
   "outputs": [],
   "metadata": {}
  },
  {
   "cell_type": "markdown",
   "source": [
    "## Import Datasets"
   ],
   "metadata": {}
  },
  {
   "cell_type": "code",
   "execution_count": 945,
   "source": [
    "train = pd.read_csv('datasets/titanic_train.csv')\r\n",
    "test = pd.read_csv('datasets/titanic_test.csv')"
   ],
   "outputs": [],
   "metadata": {}
  },
  {
   "cell_type": "markdown",
   "source": [
    "## Missing Data"
   ],
   "metadata": {}
  },
  {
   "cell_type": "code",
   "execution_count": 946,
   "source": [
    "train_test = concat_df(train, test)\r\n",
    "train_test.info()"
   ],
   "outputs": [
    {
     "output_type": "stream",
     "name": "stdout",
     "text": [
      "<class 'pandas.core.frame.DataFrame'>\n",
      "RangeIndex: 1309 entries, 0 to 1308\n",
      "Data columns (total 12 columns):\n",
      " #   Column       Non-Null Count  Dtype  \n",
      "---  ------       --------------  -----  \n",
      " 0   Age          1046 non-null   float64\n",
      " 1   Cabin        295 non-null    object \n",
      " 2   Embarked     1307 non-null   object \n",
      " 3   Fare         1308 non-null   float64\n",
      " 4   Name         1309 non-null   object \n",
      " 5   Parch        1309 non-null   int64  \n",
      " 6   PassengerId  1309 non-null   int64  \n",
      " 7   Pclass       1309 non-null   int64  \n",
      " 8   Sex          1309 non-null   object \n",
      " 9   SibSp        1309 non-null   int64  \n",
      " 10  Survived     891 non-null    float64\n",
      " 11  Ticket       1309 non-null   object \n",
      "dtypes: float64(3), int64(4), object(5)\n",
      "memory usage: 122.8+ KB\n"
     ]
    }
   ],
   "metadata": {}
  },
  {
   "cell_type": "markdown",
   "source": [
    "### Age"
   ],
   "metadata": {}
  },
  {
   "cell_type": "code",
   "execution_count": 947,
   "source": [
    "train_test.corr().abs()"
   ],
   "outputs": [
    {
     "output_type": "execute_result",
     "data": {
      "text/html": [
       "<div>\n",
       "<style scoped>\n",
       "    .dataframe tbody tr th:only-of-type {\n",
       "        vertical-align: middle;\n",
       "    }\n",
       "\n",
       "    .dataframe tbody tr th {\n",
       "        vertical-align: top;\n",
       "    }\n",
       "\n",
       "    .dataframe thead th {\n",
       "        text-align: right;\n",
       "    }\n",
       "</style>\n",
       "<table border=\"1\" class=\"dataframe\">\n",
       "  <thead>\n",
       "    <tr style=\"text-align: right;\">\n",
       "      <th></th>\n",
       "      <th>Age</th>\n",
       "      <th>Fare</th>\n",
       "      <th>Parch</th>\n",
       "      <th>PassengerId</th>\n",
       "      <th>Pclass</th>\n",
       "      <th>SibSp</th>\n",
       "      <th>Survived</th>\n",
       "    </tr>\n",
       "  </thead>\n",
       "  <tbody>\n",
       "    <tr>\n",
       "      <th>Age</th>\n",
       "      <td>1.000000</td>\n",
       "      <td>0.178740</td>\n",
       "      <td>0.150917</td>\n",
       "      <td>0.028814</td>\n",
       "      <td>0.408106</td>\n",
       "      <td>0.243699</td>\n",
       "      <td>0.077221</td>\n",
       "    </tr>\n",
       "    <tr>\n",
       "      <th>Fare</th>\n",
       "      <td>0.178740</td>\n",
       "      <td>1.000000</td>\n",
       "      <td>0.221539</td>\n",
       "      <td>0.031428</td>\n",
       "      <td>0.558629</td>\n",
       "      <td>0.160238</td>\n",
       "      <td>0.257307</td>\n",
       "    </tr>\n",
       "    <tr>\n",
       "      <th>Parch</th>\n",
       "      <td>0.150917</td>\n",
       "      <td>0.221539</td>\n",
       "      <td>1.000000</td>\n",
       "      <td>0.008942</td>\n",
       "      <td>0.018322</td>\n",
       "      <td>0.373587</td>\n",
       "      <td>0.081629</td>\n",
       "    </tr>\n",
       "    <tr>\n",
       "      <th>PassengerId</th>\n",
       "      <td>0.028814</td>\n",
       "      <td>0.031428</td>\n",
       "      <td>0.008942</td>\n",
       "      <td>1.000000</td>\n",
       "      <td>0.038354</td>\n",
       "      <td>0.055224</td>\n",
       "      <td>0.005007</td>\n",
       "    </tr>\n",
       "    <tr>\n",
       "      <th>Pclass</th>\n",
       "      <td>0.408106</td>\n",
       "      <td>0.558629</td>\n",
       "      <td>0.018322</td>\n",
       "      <td>0.038354</td>\n",
       "      <td>1.000000</td>\n",
       "      <td>0.060832</td>\n",
       "      <td>0.338481</td>\n",
       "    </tr>\n",
       "    <tr>\n",
       "      <th>SibSp</th>\n",
       "      <td>0.243699</td>\n",
       "      <td>0.160238</td>\n",
       "      <td>0.373587</td>\n",
       "      <td>0.055224</td>\n",
       "      <td>0.060832</td>\n",
       "      <td>1.000000</td>\n",
       "      <td>0.035322</td>\n",
       "    </tr>\n",
       "    <tr>\n",
       "      <th>Survived</th>\n",
       "      <td>0.077221</td>\n",
       "      <td>0.257307</td>\n",
       "      <td>0.081629</td>\n",
       "      <td>0.005007</td>\n",
       "      <td>0.338481</td>\n",
       "      <td>0.035322</td>\n",
       "      <td>1.000000</td>\n",
       "    </tr>\n",
       "  </tbody>\n",
       "</table>\n",
       "</div>"
      ],
      "text/plain": [
       "                  Age      Fare     Parch  PassengerId    Pclass     SibSp  \\\n",
       "Age          1.000000  0.178740  0.150917     0.028814  0.408106  0.243699   \n",
       "Fare         0.178740  1.000000  0.221539     0.031428  0.558629  0.160238   \n",
       "Parch        0.150917  0.221539  1.000000     0.008942  0.018322  0.373587   \n",
       "PassengerId  0.028814  0.031428  0.008942     1.000000  0.038354  0.055224   \n",
       "Pclass       0.408106  0.558629  0.018322     0.038354  1.000000  0.060832   \n",
       "SibSp        0.243699  0.160238  0.373587     0.055224  0.060832  1.000000   \n",
       "Survived     0.077221  0.257307  0.081629     0.005007  0.338481  0.035322   \n",
       "\n",
       "             Survived  \n",
       "Age          0.077221  \n",
       "Fare         0.257307  \n",
       "Parch        0.081629  \n",
       "PassengerId  0.005007  \n",
       "Pclass       0.338481  \n",
       "SibSp        0.035322  \n",
       "Survived     1.000000  "
      ]
     },
     "metadata": {},
     "execution_count": 947
    }
   ],
   "metadata": {}
  },
  {
   "cell_type": "code",
   "execution_count": 948,
   "source": [
    "train_test['Age'] = train_test.groupby(['Sex', 'Pclass'])['Age'].apply(lambda x: x.fillna(x.median()))"
   ],
   "outputs": [],
   "metadata": {}
  },
  {
   "cell_type": "markdown",
   "source": [
    "### Cabin"
   ],
   "metadata": {}
  },
  {
   "cell_type": "code",
   "execution_count": 949,
   "source": [
    "train_test.drop(['Cabin'], axis=1, inplace=True)"
   ],
   "outputs": [],
   "metadata": {}
  },
  {
   "cell_type": "markdown",
   "source": [
    "### Embarked"
   ],
   "metadata": {}
  },
  {
   "cell_type": "code",
   "execution_count": 950,
   "source": [
    "train_test[train_test['Embarked'].isnull()]"
   ],
   "outputs": [
    {
     "output_type": "execute_result",
     "data": {
      "text/html": [
       "<div>\n",
       "<style scoped>\n",
       "    .dataframe tbody tr th:only-of-type {\n",
       "        vertical-align: middle;\n",
       "    }\n",
       "\n",
       "    .dataframe tbody tr th {\n",
       "        vertical-align: top;\n",
       "    }\n",
       "\n",
       "    .dataframe thead th {\n",
       "        text-align: right;\n",
       "    }\n",
       "</style>\n",
       "<table border=\"1\" class=\"dataframe\">\n",
       "  <thead>\n",
       "    <tr style=\"text-align: right;\">\n",
       "      <th></th>\n",
       "      <th>Age</th>\n",
       "      <th>Embarked</th>\n",
       "      <th>Fare</th>\n",
       "      <th>Name</th>\n",
       "      <th>Parch</th>\n",
       "      <th>PassengerId</th>\n",
       "      <th>Pclass</th>\n",
       "      <th>Sex</th>\n",
       "      <th>SibSp</th>\n",
       "      <th>Survived</th>\n",
       "      <th>Ticket</th>\n",
       "    </tr>\n",
       "  </thead>\n",
       "  <tbody>\n",
       "    <tr>\n",
       "      <th>61</th>\n",
       "      <td>38.0</td>\n",
       "      <td>NaN</td>\n",
       "      <td>80.0</td>\n",
       "      <td>Icard, Miss. Amelie</td>\n",
       "      <td>0</td>\n",
       "      <td>62</td>\n",
       "      <td>1</td>\n",
       "      <td>female</td>\n",
       "      <td>0</td>\n",
       "      <td>1.0</td>\n",
       "      <td>113572</td>\n",
       "    </tr>\n",
       "    <tr>\n",
       "      <th>829</th>\n",
       "      <td>62.0</td>\n",
       "      <td>NaN</td>\n",
       "      <td>80.0</td>\n",
       "      <td>Stone, Mrs. George Nelson (Martha Evelyn)</td>\n",
       "      <td>0</td>\n",
       "      <td>830</td>\n",
       "      <td>1</td>\n",
       "      <td>female</td>\n",
       "      <td>0</td>\n",
       "      <td>1.0</td>\n",
       "      <td>113572</td>\n",
       "    </tr>\n",
       "  </tbody>\n",
       "</table>\n",
       "</div>"
      ],
      "text/plain": [
       "      Age Embarked  Fare                                       Name  Parch  \\\n",
       "61   38.0      NaN  80.0                        Icard, Miss. Amelie      0   \n",
       "829  62.0      NaN  80.0  Stone, Mrs. George Nelson (Martha Evelyn)      0   \n",
       "\n",
       "     PassengerId  Pclass     Sex  SibSp  Survived  Ticket  \n",
       "61            62       1  female      0       1.0  113572  \n",
       "829          830       1  female      0       1.0  113572  "
      ]
     },
     "metadata": {},
     "execution_count": 950
    }
   ],
   "metadata": {}
  },
  {
   "cell_type": "code",
   "execution_count": 951,
   "source": [
    "train_test['Embarked']=train_test['Embarked'].fillna('S')"
   ],
   "outputs": [],
   "metadata": {}
  },
  {
   "cell_type": "markdown",
   "source": [
    "### Fare"
   ],
   "metadata": {}
  },
  {
   "cell_type": "code",
   "execution_count": 952,
   "source": [
    "train_test[train_test['Fare'].isnull()]"
   ],
   "outputs": [
    {
     "output_type": "execute_result",
     "data": {
      "text/html": [
       "<div>\n",
       "<style scoped>\n",
       "    .dataframe tbody tr th:only-of-type {\n",
       "        vertical-align: middle;\n",
       "    }\n",
       "\n",
       "    .dataframe tbody tr th {\n",
       "        vertical-align: top;\n",
       "    }\n",
       "\n",
       "    .dataframe thead th {\n",
       "        text-align: right;\n",
       "    }\n",
       "</style>\n",
       "<table border=\"1\" class=\"dataframe\">\n",
       "  <thead>\n",
       "    <tr style=\"text-align: right;\">\n",
       "      <th></th>\n",
       "      <th>Age</th>\n",
       "      <th>Embarked</th>\n",
       "      <th>Fare</th>\n",
       "      <th>Name</th>\n",
       "      <th>Parch</th>\n",
       "      <th>PassengerId</th>\n",
       "      <th>Pclass</th>\n",
       "      <th>Sex</th>\n",
       "      <th>SibSp</th>\n",
       "      <th>Survived</th>\n",
       "      <th>Ticket</th>\n",
       "    </tr>\n",
       "  </thead>\n",
       "  <tbody>\n",
       "    <tr>\n",
       "      <th>1043</th>\n",
       "      <td>60.5</td>\n",
       "      <td>S</td>\n",
       "      <td>NaN</td>\n",
       "      <td>Storey, Mr. Thomas</td>\n",
       "      <td>0</td>\n",
       "      <td>1044</td>\n",
       "      <td>3</td>\n",
       "      <td>male</td>\n",
       "      <td>0</td>\n",
       "      <td>NaN</td>\n",
       "      <td>3701</td>\n",
       "    </tr>\n",
       "  </tbody>\n",
       "</table>\n",
       "</div>"
      ],
      "text/plain": [
       "       Age Embarked  Fare                Name  Parch  PassengerId  Pclass  \\\n",
       "1043  60.5        S   NaN  Storey, Mr. Thomas      0         1044       3   \n",
       "\n",
       "       Sex  SibSp  Survived Ticket  \n",
       "1043  male      0       NaN   3701  "
      ]
     },
     "metadata": {},
     "execution_count": 952
    }
   ],
   "metadata": {}
  },
  {
   "cell_type": "code",
   "execution_count": 953,
   "source": [
    "train_test['Fare'] = train_test['Fare'].fillna(train_test.groupby(['Pclass', 'Parch', 'SibSp']).Fare.median()[3][0][0])"
   ],
   "outputs": [],
   "metadata": {}
  },
  {
   "cell_type": "code",
   "execution_count": 954,
   "source": [
    "train_test.info()"
   ],
   "outputs": [
    {
     "output_type": "stream",
     "name": "stdout",
     "text": [
      "<class 'pandas.core.frame.DataFrame'>\n",
      "RangeIndex: 1309 entries, 0 to 1308\n",
      "Data columns (total 11 columns):\n",
      " #   Column       Non-Null Count  Dtype  \n",
      "---  ------       --------------  -----  \n",
      " 0   Age          1309 non-null   float64\n",
      " 1   Embarked     1309 non-null   object \n",
      " 2   Fare         1309 non-null   float64\n",
      " 3   Name         1309 non-null   object \n",
      " 4   Parch        1309 non-null   int64  \n",
      " 5   PassengerId  1309 non-null   int64  \n",
      " 6   Pclass       1309 non-null   int64  \n",
      " 7   Sex          1309 non-null   object \n",
      " 8   SibSp        1309 non-null   int64  \n",
      " 9   Survived     891 non-null    float64\n",
      " 10  Ticket       1309 non-null   object \n",
      "dtypes: float64(3), int64(4), object(4)\n",
      "memory usage: 112.6+ KB\n"
     ]
    }
   ],
   "metadata": {}
  },
  {
   "cell_type": "markdown",
   "source": [
    "## Feature Engineering"
   ],
   "metadata": {}
  },
  {
   "cell_type": "markdown",
   "source": [
    "### Binning Fares Together"
   ],
   "metadata": {}
  },
  {
   "cell_type": "code",
   "execution_count": 955,
   "source": [
    "train_test['Fare'] = pd.qcut(train_test['Fare'], 10)"
   ],
   "outputs": [],
   "metadata": {}
  },
  {
   "cell_type": "code",
   "execution_count": 956,
   "source": [
    "import seaborn as sns\r\n",
    "import matplotlib.pyplot as plt\r\n",
    "\r\n",
    "plt.subplots(figsize=(30,10))\r\n",
    "sns.countplot(x='Fare', hue='Survived', data=train_test)\r\n",
    "plt.show()"
   ],
   "outputs": [
    {
     "output_type": "display_data",
     "data": {
      "image/png": "[encoded data removed]",
      "text/plain": [
       "<Figure size 2160x720 with 1 Axes>"
      ]
     },
     "metadata": {
      "needs_background": "light"
     }
    }
   ],
   "metadata": {}
  },
  {
   "cell_type": "code",
   "execution_count": 957,
   "source": [
    "train_test.Fare.unique()"
   ],
   "outputs": [
    {
     "output_type": "execute_result",
     "data": {
      "text/plain": [
       "[(-0.001, 7.57], (41.579, 78.02], (7.854, 8.05], (8.05, 10.5], (14.454, 21.558], (10.5, 14.454], (26.82, 41.579], (21.558, 26.82], (7.57, 7.854], (78.02, 512.329]]\n",
       "Categories (10, interval[float64, right]): [(-0.001, 7.57] < (7.57, 7.854] < (7.854, 8.05] < (8.05, 10.5] ... (21.558, 26.82] < (26.82, 41.579] < (41.579, 78.02] < (78.02, 512.329]]"
      ]
     },
     "metadata": {},
     "execution_count": 957
    }
   ],
   "metadata": {}
  },
  {
   "cell_type": "markdown",
   "source": [
    "### Binning Ages Together"
   ],
   "metadata": {}
  },
  {
   "cell_type": "code",
   "execution_count": 958,
   "source": [
    "train_test['Age'] = pd.qcut(train_test['Age'], 10)"
   ],
   "outputs": [],
   "metadata": {}
  },
  {
   "cell_type": "code",
   "execution_count": 959,
   "source": [
    "plt.subplots(figsize=(30,10))\r\n",
    "sns.countplot(x='Age', hue='Survived', data=train_test)\r\n",
    "plt.show()"
   ],
   "outputs": [
    {
     "output_type": "display_data",
     "data": {
      "image/png": "[encoded data removed]",
      "text/plain": [
       "<Figure size 2160x720 with 1 Axes>"
      ]
     },
     "metadata": {
      "needs_background": "light"
     }
    }
   ],
   "metadata": {}
  },
  {
   "cell_type": "markdown",
   "source": [
    "### Family Size"
   ],
   "metadata": {}
  },
  {
   "cell_type": "code",
   "execution_count": 960,
   "source": [
    "train_test['FamilySize'] = 1 + train_test['SibSp'] + train_test['Parch']\r\n",
    "conditions = [(train_test['FamilySize'] == 1), \r\n",
    "((train_test['FamilySize'] > 1) & (train_test['FamilySize'] < 5)),\r\n",
    "((train_test['FamilySize'] > 4) & (train_test['FamilySize'] < 7)),\r\n",
    "(train_test['FamilySize'] > 6)]\r\n",
    "values = ['Alone', 'Small', 'Medium', 'Large']\r\n",
    "train_test['FamilySizeGroup'] = np.select(conditions, values)"
   ],
   "outputs": [],
   "metadata": {}
  },
  {
   "cell_type": "markdown",
   "source": [
    "### Ticket Frequency"
   ],
   "metadata": {}
  },
  {
   "cell_type": "code",
   "execution_count": 961,
   "source": [
    "train_test['Ticket_Frequency'] = train_test.groupby('Ticket')['Ticket'].transform('count')"
   ],
   "outputs": [],
   "metadata": {}
  },
  {
   "cell_type": "markdown",
   "source": [
    "### Title"
   ],
   "metadata": {}
  },
  {
   "cell_type": "code",
   "execution_count": 962,
   "source": [
    "train_test['Title'] = train_test['Name'].str.split(', ', expand=True)[1].str.split('.', expand=True)[0]"
   ],
   "outputs": [],
   "metadata": {}
  },
  {
   "cell_type": "code",
   "execution_count": 963,
   "source": [
    "train_test['Title'].unique()"
   ],
   "outputs": [
    {
     "output_type": "execute_result",
     "data": {
      "text/plain": [
       "array(['Mr', 'Mrs', 'Miss', 'Master', 'Don', 'Rev', 'Dr', 'Mme', 'Ms',\n",
       "       'Major', 'Lady', 'Sir', 'Mlle', 'Col', 'Capt', 'the Countess',\n",
       "       'Jonkheer', 'Dona'], dtype=object)"
      ]
     },
     "metadata": {},
     "execution_count": 963
    }
   ],
   "metadata": {}
  },
  {
   "cell_type": "code",
   "execution_count": 964,
   "source": [
    "train_test['Married'] = 0\r\n",
    "train_test['Married'].loc[train_test['Title'] == 'Mrs'] = 1\r\n",
    "train_test['Title'] = train_test['Title'].replace(['Mrs', 'Miss', 'Mme', 'Ms', 'Lady', 'Mlle', 'the Countess', 'Dona'], 'Mrs/Miss')\r\n",
    "train_test['Title'] = train_test['Title'].replace(['Don', 'Rev', 'Dr', 'Major', 'Sir', 'Col', 'Capt', 'Jonkheer'], 'Special Title')"
   ],
   "outputs": [],
   "metadata": {}
  },
  {
   "cell_type": "code",
   "execution_count": 965,
   "source": [
    "train, test = separate_df(train_test)"
   ],
   "outputs": [],
   "metadata": {}
  },
  {
   "cell_type": "code",
   "execution_count": 966,
   "source": [
    "test.head()"
   ],
   "outputs": [
    {
     "output_type": "execute_result",
     "data": {
      "text/html": [
       "<div>\n",
       "<style scoped>\n",
       "    .dataframe tbody tr th:only-of-type {\n",
       "        vertical-align: middle;\n",
       "    }\n",
       "\n",
       "    .dataframe tbody tr th {\n",
       "        vertical-align: top;\n",
       "    }\n",
       "\n",
       "    .dataframe thead th {\n",
       "        text-align: right;\n",
       "    }\n",
       "</style>\n",
       "<table border=\"1\" class=\"dataframe\">\n",
       "  <thead>\n",
       "    <tr style=\"text-align: right;\">\n",
       "      <th></th>\n",
       "      <th>Age</th>\n",
       "      <th>Embarked</th>\n",
       "      <th>Fare</th>\n",
       "      <th>Name</th>\n",
       "      <th>Parch</th>\n",
       "      <th>PassengerId</th>\n",
       "      <th>Pclass</th>\n",
       "      <th>Sex</th>\n",
       "      <th>SibSp</th>\n",
       "      <th>Ticket</th>\n",
       "      <th>FamilySize</th>\n",
       "      <th>FamilySizeGroup</th>\n",
       "      <th>Ticket_Frequency</th>\n",
       "      <th>Title</th>\n",
       "      <th>Married</th>\n",
       "    </tr>\n",
       "  </thead>\n",
       "  <tbody>\n",
       "    <tr>\n",
       "      <th>891</th>\n",
       "      <td>(34.0, 40.0]</td>\n",
       "      <td>Q</td>\n",
       "      <td>(7.57, 7.854]</td>\n",
       "      <td>Kelly, Mr. James</td>\n",
       "      <td>0</td>\n",
       "      <td>892</td>\n",
       "      <td>3</td>\n",
       "      <td>male</td>\n",
       "      <td>0</td>\n",
       "      <td>330911</td>\n",
       "      <td>1</td>\n",
       "      <td>Alone</td>\n",
       "      <td>1</td>\n",
       "      <td>Mr</td>\n",
       "      <td>0</td>\n",
       "    </tr>\n",
       "    <tr>\n",
       "      <th>892</th>\n",
       "      <td>(40.0, 48.0]</td>\n",
       "      <td>S</td>\n",
       "      <td>(-0.001, 7.57]</td>\n",
       "      <td>Wilkes, Mrs. James (Ellen Needs)</td>\n",
       "      <td>0</td>\n",
       "      <td>893</td>\n",
       "      <td>3</td>\n",
       "      <td>female</td>\n",
       "      <td>1</td>\n",
       "      <td>363272</td>\n",
       "      <td>2</td>\n",
       "      <td>Small</td>\n",
       "      <td>1</td>\n",
       "      <td>Mrs/Miss</td>\n",
       "      <td>1</td>\n",
       "    </tr>\n",
       "    <tr>\n",
       "      <th>893</th>\n",
       "      <td>(48.0, 80.0]</td>\n",
       "      <td>Q</td>\n",
       "      <td>(8.05, 10.5]</td>\n",
       "      <td>Myles, Mr. Thomas Francis</td>\n",
       "      <td>0</td>\n",
       "      <td>894</td>\n",
       "      <td>2</td>\n",
       "      <td>male</td>\n",
       "      <td>0</td>\n",
       "      <td>240276</td>\n",
       "      <td>1</td>\n",
       "      <td>Alone</td>\n",
       "      <td>1</td>\n",
       "      <td>Mr</td>\n",
       "      <td>0</td>\n",
       "    </tr>\n",
       "    <tr>\n",
       "      <th>894</th>\n",
       "      <td>(26.0, 29.5]</td>\n",
       "      <td>S</td>\n",
       "      <td>(8.05, 10.5]</td>\n",
       "      <td>Wirz, Mr. Albert</td>\n",
       "      <td>0</td>\n",
       "      <td>895</td>\n",
       "      <td>3</td>\n",
       "      <td>male</td>\n",
       "      <td>0</td>\n",
       "      <td>315154</td>\n",
       "      <td>1</td>\n",
       "      <td>Alone</td>\n",
       "      <td>1</td>\n",
       "      <td>Mr</td>\n",
       "      <td>0</td>\n",
       "    </tr>\n",
       "    <tr>\n",
       "      <th>895</th>\n",
       "      <td>(21.0, 22.0]</td>\n",
       "      <td>S</td>\n",
       "      <td>(10.5, 14.454]</td>\n",
       "      <td>Hirvonen, Mrs. Alexander (Helga E Lindqvist)</td>\n",
       "      <td>1</td>\n",
       "      <td>896</td>\n",
       "      <td>3</td>\n",
       "      <td>female</td>\n",
       "      <td>1</td>\n",
       "      <td>3101298</td>\n",
       "      <td>3</td>\n",
       "      <td>Small</td>\n",
       "      <td>2</td>\n",
       "      <td>Mrs/Miss</td>\n",
       "      <td>1</td>\n",
       "    </tr>\n",
       "  </tbody>\n",
       "</table>\n",
       "</div>"
      ],
      "text/plain": [
       "              Age Embarked            Fare  \\\n",
       "891  (34.0, 40.0]        Q   (7.57, 7.854]   \n",
       "892  (40.0, 48.0]        S  (-0.001, 7.57]   \n",
       "893  (48.0, 80.0]        Q    (8.05, 10.5]   \n",
       "894  (26.0, 29.5]        S    (8.05, 10.5]   \n",
       "895  (21.0, 22.0]        S  (10.5, 14.454]   \n",
       "\n",
       "                                             Name  Parch  PassengerId  Pclass  \\\n",
       "891                              Kelly, Mr. James      0          892       3   \n",
       "892              Wilkes, Mrs. James (Ellen Needs)      0          893       3   \n",
       "893                     Myles, Mr. Thomas Francis      0          894       2   \n",
       "894                              Wirz, Mr. Albert      0          895       3   \n",
       "895  Hirvonen, Mrs. Alexander (Helga E Lindqvist)      1          896       3   \n",
       "\n",
       "        Sex  SibSp   Ticket  FamilySize FamilySizeGroup  Ticket_Frequency  \\\n",
       "891    male      0   330911           1           Alone                 1   \n",
       "892  female      1   363272           2           Small                 1   \n",
       "893    male      0   240276           1           Alone                 1   \n",
       "894    male      0   315154           1           Alone                 1   \n",
       "895  female      1  3101298           3           Small                 2   \n",
       "\n",
       "        Title  Married  \n",
       "891        Mr        0  \n",
       "892  Mrs/Miss        1  \n",
       "893        Mr        0  \n",
       "894        Mr        0  \n",
       "895  Mrs/Miss        1  "
      ]
     },
     "metadata": {},
     "execution_count": 966
    }
   ],
   "metadata": {}
  },
  {
   "cell_type": "code",
   "execution_count": 967,
   "source": [
    "train.head()"
   ],
   "outputs": [
    {
     "output_type": "execute_result",
     "data": {
      "text/html": [
       "<div>\n",
       "<style scoped>\n",
       "    .dataframe tbody tr th:only-of-type {\n",
       "        vertical-align: middle;\n",
       "    }\n",
       "\n",
       "    .dataframe tbody tr th {\n",
       "        vertical-align: top;\n",
       "    }\n",
       "\n",
       "    .dataframe thead th {\n",
       "        text-align: right;\n",
       "    }\n",
       "</style>\n",
       "<table border=\"1\" class=\"dataframe\">\n",
       "  <thead>\n",
       "    <tr style=\"text-align: right;\">\n",
       "      <th></th>\n",
       "      <th>Age</th>\n",
       "      <th>Embarked</th>\n",
       "      <th>Fare</th>\n",
       "      <th>Name</th>\n",
       "      <th>Parch</th>\n",
       "      <th>PassengerId</th>\n",
       "      <th>Pclass</th>\n",
       "      <th>Sex</th>\n",
       "      <th>SibSp</th>\n",
       "      <th>Survived</th>\n",
       "      <th>Ticket</th>\n",
       "      <th>FamilySize</th>\n",
       "      <th>FamilySizeGroup</th>\n",
       "      <th>Ticket_Frequency</th>\n",
       "      <th>Title</th>\n",
       "      <th>Married</th>\n",
       "    </tr>\n",
       "  </thead>\n",
       "  <tbody>\n",
       "    <tr>\n",
       "      <th>0</th>\n",
       "      <td>(21.0, 22.0]</td>\n",
       "      <td>S</td>\n",
       "      <td>(-0.001, 7.57]</td>\n",
       "      <td>Braund, Mr. Owen Harris</td>\n",
       "      <td>0</td>\n",
       "      <td>1</td>\n",
       "      <td>3</td>\n",
       "      <td>male</td>\n",
       "      <td>1</td>\n",
       "      <td>0.0</td>\n",
       "      <td>A/5 21171</td>\n",
       "      <td>2</td>\n",
       "      <td>Small</td>\n",
       "      <td>1</td>\n",
       "      <td>Mr</td>\n",
       "      <td>0</td>\n",
       "    </tr>\n",
       "    <tr>\n",
       "      <th>1</th>\n",
       "      <td>(34.0, 40.0]</td>\n",
       "      <td>C</td>\n",
       "      <td>(41.579, 78.02]</td>\n",
       "      <td>Cumings, Mrs. John Bradley (Florence Briggs Th...</td>\n",
       "      <td>0</td>\n",
       "      <td>2</td>\n",
       "      <td>1</td>\n",
       "      <td>female</td>\n",
       "      <td>1</td>\n",
       "      <td>1.0</td>\n",
       "      <td>PC 17599</td>\n",
       "      <td>2</td>\n",
       "      <td>Small</td>\n",
       "      <td>2</td>\n",
       "      <td>Mrs/Miss</td>\n",
       "      <td>1</td>\n",
       "    </tr>\n",
       "    <tr>\n",
       "      <th>2</th>\n",
       "      <td>(25.0, 26.0]</td>\n",
       "      <td>S</td>\n",
       "      <td>(7.854, 8.05]</td>\n",
       "      <td>Heikkinen, Miss. Laina</td>\n",
       "      <td>0</td>\n",
       "      <td>3</td>\n",
       "      <td>3</td>\n",
       "      <td>female</td>\n",
       "      <td>0</td>\n",
       "      <td>1.0</td>\n",
       "      <td>STON/O2. 3101282</td>\n",
       "      <td>1</td>\n",
       "      <td>Alone</td>\n",
       "      <td>1</td>\n",
       "      <td>Mrs/Miss</td>\n",
       "      <td>0</td>\n",
       "    </tr>\n",
       "    <tr>\n",
       "      <th>3</th>\n",
       "      <td>(34.0, 40.0]</td>\n",
       "      <td>S</td>\n",
       "      <td>(41.579, 78.02]</td>\n",
       "      <td>Futrelle, Mrs. Jacques Heath (Lily May Peel)</td>\n",
       "      <td>0</td>\n",
       "      <td>4</td>\n",
       "      <td>1</td>\n",
       "      <td>female</td>\n",
       "      <td>1</td>\n",
       "      <td>1.0</td>\n",
       "      <td>113803</td>\n",
       "      <td>2</td>\n",
       "      <td>Small</td>\n",
       "      <td>2</td>\n",
       "      <td>Mrs/Miss</td>\n",
       "      <td>1</td>\n",
       "    </tr>\n",
       "    <tr>\n",
       "      <th>4</th>\n",
       "      <td>(34.0, 40.0]</td>\n",
       "      <td>S</td>\n",
       "      <td>(7.854, 8.05]</td>\n",
       "      <td>Allen, Mr. William Henry</td>\n",
       "      <td>0</td>\n",
       "      <td>5</td>\n",
       "      <td>3</td>\n",
       "      <td>male</td>\n",
       "      <td>0</td>\n",
       "      <td>0.0</td>\n",
       "      <td>373450</td>\n",
       "      <td>1</td>\n",
       "      <td>Alone</td>\n",
       "      <td>1</td>\n",
       "      <td>Mr</td>\n",
       "      <td>0</td>\n",
       "    </tr>\n",
       "  </tbody>\n",
       "</table>\n",
       "</div>"
      ],
      "text/plain": [
       "            Age Embarked             Fare  \\\n",
       "0  (21.0, 22.0]        S   (-0.001, 7.57]   \n",
       "1  (34.0, 40.0]        C  (41.579, 78.02]   \n",
       "2  (25.0, 26.0]        S    (7.854, 8.05]   \n",
       "3  (34.0, 40.0]        S  (41.579, 78.02]   \n",
       "4  (34.0, 40.0]        S    (7.854, 8.05]   \n",
       "\n",
       "                                                Name  Parch  PassengerId  \\\n",
       "0                            Braund, Mr. Owen Harris      0            1   \n",
       "1  Cumings, Mrs. John Bradley (Florence Briggs Th...      0            2   \n",
       "2                             Heikkinen, Miss. Laina      0            3   \n",
       "3       Futrelle, Mrs. Jacques Heath (Lily May Peel)      0            4   \n",
       "4                           Allen, Mr. William Henry      0            5   \n",
       "\n",
       "   Pclass     Sex  SibSp  Survived            Ticket  FamilySize  \\\n",
       "0       3    male      1       0.0         A/5 21171           2   \n",
       "1       1  female      1       1.0          PC 17599           2   \n",
       "2       3  female      0       1.0  STON/O2. 3101282           1   \n",
       "3       1  female      1       1.0            113803           2   \n",
       "4       3    male      0       0.0            373450           1   \n",
       "\n",
       "  FamilySizeGroup  Ticket_Frequency     Title  Married  \n",
       "0           Small                 1        Mr        0  \n",
       "1           Small                 2  Mrs/Miss        1  \n",
       "2           Alone                 1  Mrs/Miss        0  \n",
       "3           Small                 2  Mrs/Miss        1  \n",
       "4           Alone                 1        Mr        0  "
      ]
     },
     "metadata": {},
     "execution_count": 967
    }
   ],
   "metadata": {}
  },
  {
   "cell_type": "markdown",
   "source": [
    "## Choosing a Model"
   ],
   "metadata": {}
  },
  {
   "cell_type": "code",
   "execution_count": 968,
   "source": [
    "X = train.drop('Survived', axis=1)\r\n",
    "y = train['Survived']"
   ],
   "outputs": [],
   "metadata": {}
  },
  {
   "cell_type": "code",
   "execution_count": 969,
   "source": [
    "features_remove = ['Name', 'Ticket', 'PassengerId']\r\n",
    "X.drop(features_remove, axis=1, inplace=True)\r\n",
    "X.head()"
   ],
   "outputs": [
    {
     "output_type": "execute_result",
     "data": {
      "text/html": [
       "<div>\n",
       "<style scoped>\n",
       "    .dataframe tbody tr th:only-of-type {\n",
       "        vertical-align: middle;\n",
       "    }\n",
       "\n",
       "    .dataframe tbody tr th {\n",
       "        vertical-align: top;\n",
       "    }\n",
       "\n",
       "    .dataframe thead th {\n",
       "        text-align: right;\n",
       "    }\n",
       "</style>\n",
       "<table border=\"1\" class=\"dataframe\">\n",
       "  <thead>\n",
       "    <tr style=\"text-align: right;\">\n",
       "      <th></th>\n",
       "      <th>Age</th>\n",
       "      <th>Embarked</th>\n",
       "      <th>Fare</th>\n",
       "      <th>Parch</th>\n",
       "      <th>Pclass</th>\n",
       "      <th>Sex</th>\n",
       "      <th>SibSp</th>\n",
       "      <th>FamilySize</th>\n",
       "      <th>FamilySizeGroup</th>\n",
       "      <th>Ticket_Frequency</th>\n",
       "      <th>Title</th>\n",
       "      <th>Married</th>\n",
       "    </tr>\n",
       "  </thead>\n",
       "  <tbody>\n",
       "    <tr>\n",
       "      <th>0</th>\n",
       "      <td>(21.0, 22.0]</td>\n",
       "      <td>S</td>\n",
       "      <td>(-0.001, 7.57]</td>\n",
       "      <td>0</td>\n",
       "      <td>3</td>\n",
       "      <td>male</td>\n",
       "      <td>1</td>\n",
       "      <td>2</td>\n",
       "      <td>Small</td>\n",
       "      <td>1</td>\n",
       "      <td>Mr</td>\n",
       "      <td>0</td>\n",
       "    </tr>\n",
       "    <tr>\n",
       "      <th>1</th>\n",
       "      <td>(34.0, 40.0]</td>\n",
       "      <td>C</td>\n",
       "      <td>(41.579, 78.02]</td>\n",
       "      <td>0</td>\n",
       "      <td>1</td>\n",
       "      <td>female</td>\n",
       "      <td>1</td>\n",
       "      <td>2</td>\n",
       "      <td>Small</td>\n",
       "      <td>2</td>\n",
       "      <td>Mrs/Miss</td>\n",
       "      <td>1</td>\n",
       "    </tr>\n",
       "    <tr>\n",
       "      <th>2</th>\n",
       "      <td>(25.0, 26.0]</td>\n",
       "      <td>S</td>\n",
       "      <td>(7.854, 8.05]</td>\n",
       "      <td>0</td>\n",
       "      <td>3</td>\n",
       "      <td>female</td>\n",
       "      <td>0</td>\n",
       "      <td>1</td>\n",
       "      <td>Alone</td>\n",
       "      <td>1</td>\n",
       "      <td>Mrs/Miss</td>\n",
       "      <td>0</td>\n",
       "    </tr>\n",
       "    <tr>\n",
       "      <th>3</th>\n",
       "      <td>(34.0, 40.0]</td>\n",
       "      <td>S</td>\n",
       "      <td>(41.579, 78.02]</td>\n",
       "      <td>0</td>\n",
       "      <td>1</td>\n",
       "      <td>female</td>\n",
       "      <td>1</td>\n",
       "      <td>2</td>\n",
       "      <td>Small</td>\n",
       "      <td>2</td>\n",
       "      <td>Mrs/Miss</td>\n",
       "      <td>1</td>\n",
       "    </tr>\n",
       "    <tr>\n",
       "      <th>4</th>\n",
       "      <td>(34.0, 40.0]</td>\n",
       "      <td>S</td>\n",
       "      <td>(7.854, 8.05]</td>\n",
       "      <td>0</td>\n",
       "      <td>3</td>\n",
       "      <td>male</td>\n",
       "      <td>0</td>\n",
       "      <td>1</td>\n",
       "      <td>Alone</td>\n",
       "      <td>1</td>\n",
       "      <td>Mr</td>\n",
       "      <td>0</td>\n",
       "    </tr>\n",
       "  </tbody>\n",
       "</table>\n",
       "</div>"
      ],
      "text/plain": [
       "            Age Embarked             Fare  Parch  Pclass     Sex  SibSp  \\\n",
       "0  (21.0, 22.0]        S   (-0.001, 7.57]      0       3    male      1   \n",
       "1  (34.0, 40.0]        C  (41.579, 78.02]      0       1  female      1   \n",
       "2  (25.0, 26.0]        S    (7.854, 8.05]      0       3  female      0   \n",
       "3  (34.0, 40.0]        S  (41.579, 78.02]      0       1  female      1   \n",
       "4  (34.0, 40.0]        S    (7.854, 8.05]      0       3    male      0   \n",
       "\n",
       "   FamilySize FamilySizeGroup  Ticket_Frequency     Title  Married  \n",
       "0           2           Small                 1        Mr        0  \n",
       "1           2           Small                 2  Mrs/Miss        1  \n",
       "2           1           Alone                 1  Mrs/Miss        0  \n",
       "3           2           Small                 2  Mrs/Miss        1  \n",
       "4           1           Alone                 1        Mr        0  "
      ]
     },
     "metadata": {},
     "execution_count": 969
    }
   ],
   "metadata": {}
  },
  {
   "cell_type": "code",
   "execution_count": 970,
   "source": [
    "non_numeric_transformer = Pipeline(steps=[('ordinal', OrdinalEncoder())])\r\n",
    "categorical_transformer = Pipeline(steps=[('onehot', OneHotEncoder(handle_unknown='ignore'))])"
   ],
   "outputs": [],
   "metadata": {}
  },
  {
   "cell_type": "code",
   "execution_count": 971,
   "source": [
    "non_numerical_features = ['Age', 'Fare']\r\n",
    "categorical_features = ['Embarked', 'Sex', 'Title', 'Pclass','FamilySizeGroup']"
   ],
   "outputs": [],
   "metadata": {}
  },
  {
   "cell_type": "code",
   "execution_count": 972,
   "source": [
    "preprocessor = ColumnTransformer(transformers=[('num', non_numeric_transformer, non_numerical_features),('cat', categorical_transformer, categorical_features)])"
   ],
   "outputs": [],
   "metadata": {}
  },
  {
   "cell_type": "code",
   "execution_count": 973,
   "source": [
    "X_train, X_test, y_train, y_test = train_test_split(X, y, test_size=0.25)"
   ],
   "outputs": [],
   "metadata": {}
  },
  {
   "cell_type": "code",
   "execution_count": 974,
   "source": [
    "SEED=123\r\n",
    "lr = LogisticRegression()\r\n",
    "knn = KNN()\r\n",
    "dt = DecisionTreeClassifier(random_state=SEED)\r\n",
    "gaussian_nb= GaussianNB()\r\n",
    "randomforest=RandomForestClassifier(random_state=SEED)\r\n",
    "xgb = XGBClassifier(verbosity = 0)\r\n",
    "# Define a list called classifier that contains the tuples (classifier_name, classifier)\r\n",
    "classifiers = [('Logistic Regression', lr),('K Nearest Neighbours', knn),('Classification Tree', dt),('Gaussian Naive Bayes', gaussian_nb),('Random Forest', randomforest), ('XGBoost', xgb)]"
   ],
   "outputs": [],
   "metadata": {}
  },
  {
   "cell_type": "code",
   "execution_count": 975,
   "source": [
    "preprocessor.fit(X_train)"
   ],
   "outputs": [
    {
     "output_type": "execute_result",
     "data": {
      "text/plain": [
       "ColumnTransformer(transformers=[('num',\n",
       "                                 Pipeline(steps=[('ordinal',\n",
       "                                                  OrdinalEncoder())]),\n",
       "                                 ['Age', 'Fare']),\n",
       "                                ('cat',\n",
       "                                 Pipeline(steps=[('onehot',\n",
       "                                                  OneHotEncoder(handle_unknown='ignore'))]),\n",
       "                                 ['Embarked', 'Sex', 'Title', 'Pclass',\n",
       "                                  'FamilySizeGroup'])])"
      ]
     },
     "metadata": {},
     "execution_count": 975
    }
   ],
   "metadata": {}
  },
  {
   "cell_type": "code",
   "execution_count": 976,
   "source": [
    "for cls_name, clf in classifiers:\r\n",
    "    pipe = Pipeline(steps=[('preprocessor', preprocessor), ('classifier', clf)])\r\n",
    "    pipe.fit(X_train, y_train)\r\n",
    "    accuracies = cross_val_score(pipe, X = X_train, y = y_train, cv = 10)\r\n",
    "    print(cls_name + \" Accuracy: {:.2f} %\".format(accuracies.mean()*100))\r\n",
    "    print(\"Standard Deviation: {:.2f} %\".format(accuracies.std()*100))"
   ],
   "outputs": [
    {
     "output_type": "stream",
     "name": "stdout",
     "text": [
      "Logistic Regression Accuracy: 81.85 %\n",
      "Standard Deviation: 3.83 %\n",
      "K Nearest Neighbours Accuracy: 79.02 %\n",
      "Standard Deviation: 4.86 %\n",
      "Classification Tree Accuracy: 78.56 %\n",
      "Standard Deviation: 4.77 %\n",
      "Gaussian Naive Bayes Accuracy: 80.20 %\n",
      "Standard Deviation: 3.77 %\n",
      "Random Forest Accuracy: 79.01 %\n",
      "Standard Deviation: 4.16 %\n",
      "XGBoost Accuracy: 79.61 %\n",
      "Standard Deviation: 4.13 %\n"
     ]
    }
   ],
   "metadata": {}
  },
  {
   "cell_type": "code",
   "execution_count": 977,
   "source": [
    "params = {\r\n",
    "        'xgb__min_child_weight': [1, 5, 10],\r\n",
    "        'xgb__gamma': [0.5, 1, 1.5, 2, 5],\r\n",
    "        'xgb__subsample': [0.6, 0.8, 1.0],\r\n",
    "        'xgb__colsample_bytree': [0.6, 0.8, 1.0],\r\n",
    "        'xgb__max_depth': [3, 4, 5]\r\n",
    "        }\r\n",
    "\"\"\" params = {\r\n",
    "        'lr__solver': ['liblinear', 'lbfgs', 'newton-cg'],\r\n",
    "        'lr__penalty': ['l2'],\r\n",
    "        'lr__C': [1000, 100,10, 1.0, 0.1, 0.01, 0.001, 0.0001]\r\n",
    "        } \"\"\""
   ],
   "outputs": [
    {
     "output_type": "execute_result",
     "data": {
      "text/plain": [
       "\" params = {\\n        'lr__solver': ['liblinear', 'lbfgs', 'newton-cg'],\\n        'lr__penalty': ['l2'],\\n        'lr__C': [1000, 100,10, 1.0, 0.1, 0.01, 0.001, 0.0001]\\n        } \""
      ]
     },
     "metadata": {},
     "execution_count": 977
    }
   ],
   "metadata": {}
  },
  {
   "cell_type": "code",
   "execution_count": 979,
   "source": [
    "pipe = Pipeline(steps=[('preprocessor', preprocessor), ('xgb', xgb)])\r\n",
    "pipe.fit(X_train, y_train)\r\n",
    "grid_search = GridSearchCV(pipe,\r\n",
    "                           params,\r\n",
    "                           n_jobs = -1, scoring='roc_auc')\r\n",
    "grid_search.fit(X_train, y_train)\r\n",
    "best_accuracy = grid_search.best_score_\r\n",
    "best_parameters = grid_search.best_params_\r\n",
    "print(\"Best Accuracy: {:.2f} %\".format(best_accuracy*100))\r\n",
    "print(\"Best Parameters:\", best_parameters)"
   ],
   "outputs": [
    {
     "output_type": "stream",
     "name": "stdout",
     "text": [
      "Best Accuracy: 87.37 %\n",
      "Best Parameters: {'xgb__colsample_bytree': 1.0, 'xgb__gamma': 1, 'xgb__max_depth': 3, 'xgb__min_child_weight': 1, 'xgb__subsample': 1.0}\n"
     ]
    }
   ],
   "metadata": {}
  },
  {
   "cell_type": "code",
   "execution_count": 980,
   "source": [
    "xgb_upd = XGBClassifier(colsample_bytree=1.0, gamma=1, max_depth=3, min_child_weight=1, subsample=1)\r\n",
    "pipe = Pipeline(steps=[('preprocessor', preprocessor), ('xgb', xgb_upd)])\r\n",
    "\"\"\" lr_upd = LogisticRegression(C=1, penalty='l2', solver='lbfgs')\r\n",
    "pipe = Pipeline(steps=[('preprocessor', preprocessor), ('lr', lr_upd)])  \"\"\"\r\n",
    "pipe.fit(X,y)\r\n",
    "passengers=test.PassengerId\r\n",
    "test.drop(features_remove, axis=1, inplace=True)\r\n",
    "y_final_pred = pipe.predict(test).astype(int)"
   ],
   "outputs": [],
   "metadata": {}
  },
  {
   "cell_type": "code",
   "execution_count": 981,
   "source": [
    "output = pd.DataFrame({'PassengerId': passengers, 'Survived': y_final_pred})\r\n",
    "output.to_csv('submission.csv', index=False)"
   ],
   "outputs": [],
   "metadata": {}
  },
  {
   "cell_type": "code",
   "execution_count": null,
   "source": [],
   "outputs": [],
   "metadata": {}
  }
 ],
 "metadata": {
  "orig_nbformat": 4,
  "language_info": {
   "name": "python",
   "version": "3.8.11",
   "mimetype": "text/x-python",
   "codemirror_mode": {
    "name": "ipython",
    "version": 3
   },
   "pygments_lexer": "ipython3",
   "nbconvert_exporter": "python",
   "file_extension": ".py"
  },
  "kernelspec": {
   "name": "python3",
   "display_name": "Python 3.8.11 64-bit ('base': conda)"
  },
  "interpreter": {
   "hash": "ee6f022951eb6ed93b620ee25595bf1afceb274eb3637af1e721bcc987aa355b"
  }
 },
 "nbformat": 4,
 "nbformat_minor": 2
}